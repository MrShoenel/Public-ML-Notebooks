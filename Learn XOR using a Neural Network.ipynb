{
 "cells": [
  {
   "cell_type": "markdown",
   "metadata": {},
   "source": [
    "# Learn XOR using a Neural Network"
   ]
  },
  {
   "cell_type": "markdown",
   "metadata": {},
   "source": [
    "For demonstration purposes, we learn neural network models of increasing complexity implementing the XOR function. Eventually, we will arrive at the model suggested in this [tutorial](https://blog.thoughtram.io/machine-learning/2016/11/02/understanding-XOR-with-keras-and-tensorlow.html)."
   ]
  },
  {
   "cell_type": "markdown",
   "metadata": {},
   "source": [
    "## Imports"
   ]
  },
  {
   "cell_type": "code",
   "execution_count": 1,
   "metadata": {},
   "outputs": [
    {
     "name": "stdout",
     "output_type": "stream",
     "text": [
      "Requirement already satisfied: numpy in /Users/wlomsi/opt/anaconda3/lib/python3.7/site-packages (1.18.1)\n",
      "Requirement already satisfied: keras in /Users/wlomsi/opt/anaconda3/lib/python3.7/site-packages (2.3.1)\n",
      "Requirement already satisfied: keras-applications>=1.0.6 in /Users/wlomsi/opt/anaconda3/lib/python3.7/site-packages (from keras) (1.0.8)\n",
      "Requirement already satisfied: numpy>=1.9.1 in /Users/wlomsi/opt/anaconda3/lib/python3.7/site-packages (from keras) (1.18.1)\n",
      "Requirement already satisfied: h5py in /Users/wlomsi/opt/anaconda3/lib/python3.7/site-packages (from keras) (2.10.0)\n",
      "Requirement already satisfied: keras-preprocessing>=1.0.5 in /Users/wlomsi/opt/anaconda3/lib/python3.7/site-packages (from keras) (1.1.0)\n",
      "Requirement already satisfied: scipy>=0.14 in /Users/wlomsi/opt/anaconda3/lib/python3.7/site-packages (from keras) (1.4.1)\n",
      "Requirement already satisfied: pyyaml in /Users/wlomsi/opt/anaconda3/lib/python3.7/site-packages (from keras) (5.2)\n",
      "Requirement already satisfied: six>=1.9.0 in /Users/wlomsi/opt/anaconda3/lib/python3.7/site-packages (from keras) (1.13.0)\n",
      "Requirement already satisfied: sklearn in /Users/wlomsi/opt/anaconda3/lib/python3.7/site-packages (0.0)\n",
      "Requirement already satisfied: scikit-learn in /Users/wlomsi/opt/anaconda3/lib/python3.7/site-packages (from sklearn) (0.22.2.post1)\n",
      "Requirement already satisfied: joblib>=0.11 in /Users/wlomsi/opt/anaconda3/lib/python3.7/site-packages (from scikit-learn->sklearn) (0.14.1)\n",
      "Requirement already satisfied: numpy>=1.11.0 in /Users/wlomsi/opt/anaconda3/lib/python3.7/site-packages (from scikit-learn->sklearn) (1.18.1)\n",
      "Requirement already satisfied: scipy>=0.17.0 in /Users/wlomsi/opt/anaconda3/lib/python3.7/site-packages (from scikit-learn->sklearn) (1.4.1)\n"
     ]
    }
   ],
   "source": [
    "!pip install numpy \n",
    "!pip install keras \n",
    "!pip install sklearn "
   ]
  },
  {
   "cell_type": "code",
   "execution_count": 1,
   "metadata": {},
   "outputs": [
    {
     "name": "stderr",
     "output_type": "stream",
     "text": [
      "Using TensorFlow backend.\n"
     ]
    }
   ],
   "source": [
    "import numpy as np\n",
    "from keras.models import Sequential\n",
    "from keras.layers.core import Dense\n",
    "from sklearn.metrics import mean_squared_error, accuracy_score\n",
    "\n",
    "import matplotlib.pyplot as plt"
   ]
  },
  {
   "cell_type": "markdown",
   "metadata": {},
   "source": [
    "## Create the XOR function as data"
   ]
  },
  {
   "cell_type": "code",
   "execution_count": 3,
   "metadata": {},
   "outputs": [
    {
     "name": "stdout",
     "output_type": "stream",
     "text": [
      "Input: (4, 2)\n",
      "Output: (4, 1)\n"
     ]
    }
   ],
   "source": [
    "# Create XOR\n",
    "X = np.array([[0,0],[0,1],[1,0],[1,1]], \"float32\")\n",
    "Y = np.array([[0],[1],[1],[0]], \"float32\")\n",
    "\n",
    "# Dataset shape\n",
    "print(\"Input: {0}\".format(X.shape))\n",
    "print(\"Output: {0}\".format(Y.shape))"
   ]
  },
  {
   "cell_type": "markdown",
   "metadata": {},
   "source": [
    "## Model 1"
   ]
  },
  {
   "cell_type": "markdown",
   "metadata": {},
   "source": [
    "Define and train a too trivial neural network model. It is purely linear and, hence, misses 50% of the right answers."
   ]
  },
  {
   "cell_type": "code",
   "execution_count": 4,
   "metadata": {
    "scrolled": true
   },
   "outputs": [
    {
     "name": "stdout",
     "output_type": "stream",
     "text": [
      "Model: \"sequential_1\"\n",
      "_________________________________________________________________\n",
      "Layer (type)                 Output Shape              Param #   \n",
      "=================================================================\n",
      "dense_1 (Dense)              (None, 1)                 3         \n",
      "=================================================================\n",
      "Total params: 3\n",
      "Trainable params: 3\n",
      "Non-trainable params: 0\n",
      "_________________________________________________________________\n",
      "None\n"
     ]
    }
   ],
   "source": [
    "# Define the model\n",
    "model1 = Sequential()\n",
    "model1.add(Dense(1, input_dim=2, activation='linear'))\n",
    "\n",
    "# Compile the model\n",
    "model1.compile(loss='mean_squared_error',\n",
    "              optimizer='adam',\n",
    "              metrics=['binary_accuracy','mean_squared_error'])\n",
    "\n",
    "print(model1.summary())"
   ]
  },
  {
   "cell_type": "code",
   "execution_count": 5,
   "metadata": {},
   "outputs": [
    {
     "data": {
      "text/plain": [
       "[]"
      ]
     },
     "execution_count": 5,
     "metadata": {},
     "output_type": "execute_result"
    },
    {
     "data": {
      "image/png": "[encoded data removed]",
      "text/plain": [
       "<Figure size 432x288 with 1 Axes>"
      ]
     },
     "metadata": {
      "needs_background": "light"
     },
     "output_type": "display_data"
    }
   ],
   "source": [
    "# Train the model\n",
    "history = model1.fit(X, Y, epochs=1000, verbose=0)\n",
    "\n",
    "plt.plot(history.history['mean_squared_error'])\n",
    "plt.plot(history.history['binary_accuracy'])\n",
    "plt.ylabel('mean squared error / binary accuracy')\n",
    "plt.xlabel('epoch')\n",
    "plt.plot()"
   ]
  },
  {
   "cell_type": "markdown",
   "metadata": {},
   "source": [
    "Evaluate the model:"
   ]
  },
  {
   "cell_type": "code",
   "execution_count": 6,
   "metadata": {},
   "outputs": [
    {
     "name": "stdout",
     "output_type": "stream",
     "text": [
      "Mean squared error: 0.28\n",
      "Binary accuracy: 0.50\n"
     ]
    }
   ],
   "source": [
    "preds = model1.predict(X)\n",
    "mse = mean_squared_error(preds, Y)\n",
    "print(\"Mean squared error: {0:.2f}\".format(mse))\n",
    "acc = accuracy_score(preds.round(), Y)\n",
    "print(\"Binary accuracy: {0:.2f}\".format(acc))"
   ]
  },
  {
   "cell_type": "code",
   "execution_count": 7,
   "metadata": {},
   "outputs": [
    {
     "data": {
      "text/plain": [
       "array([[0.2351011 ],\n",
       "       [0.5102881 ],\n",
       "       [0.43219224],\n",
       "       [0.7073792 ]], dtype=float32)"
      ]
     },
     "execution_count": 7,
     "metadata": {},
     "output_type": "execute_result"
    }
   ],
   "source": [
    "preds"
   ]
  },
  {
   "cell_type": "markdown",
   "metadata": {},
   "source": [
    "Use the model"
   ]
  },
  {
   "cell_type": "code",
   "execution_count": 8,
   "metadata": {},
   "outputs": [],
   "source": [
    "def my_xor(x1,x2,m):\n",
    "    \"\"\"Return x1 XOR x2.\"\"\"\n",
    "    res =  m.predict(np.array([[x1,x2]], \"float32\")).round()\n",
    "    return int(res[0][0])"
   ]
  },
  {
   "cell_type": "code",
   "execution_count": 9,
   "metadata": {},
   "outputs": [
    {
     "name": "stdout",
     "output_type": "stream",
     "text": [
      "0\n",
      "1\n",
      "0\n",
      "1\n"
     ]
    }
   ],
   "source": [
    "print(format(my_xor(0,0, model1)))\n",
    "print(format(my_xor(0,1, model1)))\n",
    "print(format(my_xor(1,0, model1)))\n",
    "print(format(my_xor(1,1, model1)))"
   ]
  },
  {
   "cell_type": "markdown",
   "metadata": {},
   "source": [
    "## Model 2"
   ]
  },
  {
   "cell_type": "markdown",
   "metadata": {},
   "source": [
    "The slightly more complex neural network model introduces a sigmpod activation function. It is hence not linear anymore. However, its accuracy does not improve."
   ]
  },
  {
   "cell_type": "code",
   "execution_count": 10,
   "metadata": {
    "scrolled": true
   },
   "outputs": [
    {
     "name": "stdout",
     "output_type": "stream",
     "text": [
      "Model: \"sequential_2\"\n",
      "_________________________________________________________________\n",
      "Layer (type)                 Output Shape              Param #   \n",
      "=================================================================\n",
      "dense_2 (Dense)              (None, 1)                 3         \n",
      "=================================================================\n",
      "Total params: 3\n",
      "Trainable params: 3\n",
      "Non-trainable params: 0\n",
      "_________________________________________________________________\n",
      "None\n"
     ]
    }
   ],
   "source": [
    "# Define the model\n",
    "model2 = Sequential()\n",
    "model2.add(Dense(1, input_dim=2, activation='sigmoid'))\n",
    "\n",
    "# Compile the model\n",
    "model2.compile(loss='mean_squared_error',\n",
    "              optimizer='adam',\n",
    "              metrics=['binary_accuracy','mean_squared_error'])\n",
    "\n",
    "print(model2.summary())"
   ]
  },
  {
   "cell_type": "code",
   "execution_count": 11,
   "metadata": {},
   "outputs": [
    {
     "data": {
      "text/plain": [
       "[]"
      ]
     },
     "execution_count": 11,
     "metadata": {},
     "output_type": "execute_result"
    },
    {
     "data": {
      "image/png": "[encoded data removed]",
      "text/plain": [
       "<Figure size 432x288 with 1 Axes>"
      ]
     },
     "metadata": {
      "needs_background": "light"
     },
     "output_type": "display_data"
    }
   ],
   "source": [
    "# Train the model\n",
    "history = model2.fit(X, Y, epochs=1000, verbose=0)\n",
    "\n",
    "plt.plot(history.history['mean_squared_error'])\n",
    "plt.plot(history.history['binary_accuracy'])\n",
    "plt.ylabel('mean squared error / binary accuracy')\n",
    "plt.xlabel('epoch')\n",
    "plt.plot()"
   ]
  },
  {
   "cell_type": "markdown",
   "metadata": {},
   "source": [
    "Evaluate the model:"
   ]
  },
  {
   "cell_type": "code",
   "execution_count": 12,
   "metadata": {},
   "outputs": [
    {
     "name": "stdout",
     "output_type": "stream",
     "text": [
      "Mean squared error: 0.25\n",
      "Binary accuracy: 0.50\n"
     ]
    }
   ],
   "source": [
    "preds = model2.predict(X)\n",
    "mse = mean_squared_error(preds, Y)\n",
    "print(\"Mean squared error: {0:.2f}\".format(mse))\n",
    "acc = accuracy_score(preds.round(), Y)\n",
    "print(\"Binary accuracy: {0:.2f}\".format(acc))"
   ]
  },
  {
   "cell_type": "code",
   "execution_count": 13,
   "metadata": {},
   "outputs": [
    {
     "data": {
      "text/plain": [
       "array([[0.55426496],\n",
       "       [0.5268886 ],\n",
       "       [0.49278012],\n",
       "       [0.46527073]], dtype=float32)"
      ]
     },
     "execution_count": 13,
     "metadata": {},
     "output_type": "execute_result"
    }
   ],
   "source": [
    "preds"
   ]
  },
  {
   "cell_type": "markdown",
   "metadata": {},
   "source": [
    "Use the model"
   ]
  },
  {
   "cell_type": "code",
   "execution_count": 14,
   "metadata": {},
   "outputs": [
    {
     "name": "stdout",
     "output_type": "stream",
     "text": [
      "1\n",
      "1\n",
      "0\n",
      "0\n"
     ]
    }
   ],
   "source": [
    "print(format(my_xor(0,0, model2)))\n",
    "print(format(my_xor(0,1, model2)))\n",
    "print(format(my_xor(1,0, model2)))\n",
    "print(format(my_xor(1,1, model2)))"
   ]
  },
  {
   "cell_type": "markdown",
   "metadata": {},
   "source": [
    "## Model 3"
   ]
  },
  {
   "cell_type": "markdown",
   "metadata": {},
   "source": [
    "We add a hidden layer with linear activation function:"
   ]
  },
  {
   "cell_type": "code",
   "execution_count": 15,
   "metadata": {
    "scrolled": true
   },
   "outputs": [
    {
     "name": "stdout",
     "output_type": "stream",
     "text": [
      "Model: \"sequential_3\"\n",
      "_________________________________________________________________\n",
      "Layer (type)                 Output Shape              Param #   \n",
      "=================================================================\n",
      "dense_3 (Dense)              (None, 32)                96        \n",
      "_________________________________________________________________\n",
      "dense_4 (Dense)              (None, 1)                 33        \n",
      "=================================================================\n",
      "Total params: 129\n",
      "Trainable params: 129\n",
      "Non-trainable params: 0\n",
      "_________________________________________________________________\n",
      "None\n"
     ]
    }
   ],
   "source": [
    "# Define the model\n",
    "model3 = Sequential()\n",
    "model3.add(Dense(32, input_dim=2, activation='linear'))\n",
    "model3.add(Dense(1, activation='sigmoid'))\n",
    "\n",
    "# Compile the model\n",
    "model3.compile(loss='mean_squared_error',\n",
    "              optimizer='adam',\n",
    "              metrics=['binary_accuracy','mean_squared_error'])\n",
    "\n",
    "print(model3.summary())"
   ]
  },
  {
   "cell_type": "code",
   "execution_count": 16,
   "metadata": {},
   "outputs": [
    {
     "data": {
      "text/plain": [
       "[]"
      ]
     },
     "execution_count": 16,
     "metadata": {},
     "output_type": "execute_result"
    },
    {
     "data": {
      "image/png": "[encoded data removed]",
      "text/plain": [
       "<Figure size 432x288 with 1 Axes>"
      ]
     },
     "metadata": {
      "needs_background": "light"
     },
     "output_type": "display_data"
    }
   ],
   "source": [
    "# Train the model\n",
    "history = model3.fit(X, Y, epochs=1000, verbose=0)\n",
    "\n",
    "plt.plot(history.history['mean_squared_error'])\n",
    "plt.plot(history.history['binary_accuracy'])\n",
    "plt.ylabel('mean squared error / binary accuracy')\n",
    "plt.xlabel('epoch')\n",
    "plt.plot()"
   ]
  },
  {
   "cell_type": "markdown",
   "metadata": {},
   "source": [
    "Evaluate the model:"
   ]
  },
  {
   "cell_type": "code",
   "execution_count": 17,
   "metadata": {},
   "outputs": [
    {
     "name": "stdout",
     "output_type": "stream",
     "text": [
      "Mean squared error: 0.25\n",
      "Binary accuracy: 0.50\n"
     ]
    }
   ],
   "source": [
    "preds = model3.predict(X)\n",
    "mse = mean_squared_error(preds, Y)\n",
    "print(\"Mean squared error: {0:.2f}\".format(mse))\n",
    "acc = accuracy_score(preds.round(), Y)\n",
    "print(\"Binary accuracy: {0:.2f}\".format(acc))"
   ]
  },
  {
   "cell_type": "code",
   "execution_count": 18,
   "metadata": {},
   "outputs": [
    {
     "data": {
      "text/plain": [
       "array([[0.5],\n",
       "       [0.5],\n",
       "       [0.5],\n",
       "       [0.5]], dtype=float32)"
      ]
     },
     "execution_count": 18,
     "metadata": {},
     "output_type": "execute_result"
    }
   ],
   "source": [
    "preds"
   ]
  },
  {
   "cell_type": "markdown",
   "metadata": {},
   "source": [
    "Use the model"
   ]
  },
  {
   "cell_type": "code",
   "execution_count": 19,
   "metadata": {},
   "outputs": [
    {
     "name": "stdout",
     "output_type": "stream",
     "text": [
      "0\n",
      "0\n",
      "0\n",
      "0\n"
     ]
    }
   ],
   "source": [
    "print(format(my_xor(0,0, model3)))\n",
    "print(format(my_xor(0,1, model3)))\n",
    "print(format(my_xor(1,0, model3)))\n",
    "print(format(my_xor(1,1, model3)))"
   ]
  },
  {
   "cell_type": "markdown",
   "metadata": {},
   "source": [
    "## Model 4"
   ]
  },
  {
   "cell_type": "markdown",
   "metadata": {},
   "source": [
    "Finally we change the linear activation of the hidden layer to a relu activation, define and train the neural network model:"
   ]
  },
  {
   "cell_type": "code",
   "execution_count": 21,
   "metadata": {
    "scrolled": true
   },
   "outputs": [
    {
     "name": "stdout",
     "output_type": "stream",
     "text": [
      "Model: \"sequential_5\"\n",
      "_________________________________________________________________\n",
      "Layer (type)                 Output Shape              Param #   \n",
      "=================================================================\n",
      "dense_7 (Dense)              (None, 32)                96        \n",
      "_________________________________________________________________\n",
      "dense_8 (Dense)              (None, 1)                 33        \n",
      "=================================================================\n",
      "Total params: 129\n",
      "Trainable params: 129\n",
      "Non-trainable params: 0\n",
      "_________________________________________________________________\n",
      "None\n"
     ]
    }
   ],
   "source": [
    "# Define the model\n",
    "model = Sequential()\n",
    "model.add(Dense(32, input_dim=2, activation='relu'))\n",
    "model.add(Dense(1, activation='sigmoid'))\n",
    "\n",
    "# Compile the model\n",
    "model.compile(loss='mean_squared_error',\n",
    "              optimizer='adam',\n",
    "              metrics=['binary_accuracy','mean_squared_error'])\n",
    "\n",
    "print(model.summary())"
   ]
  },
  {
   "cell_type": "code",
   "execution_count": 57,
   "metadata": {},
   "outputs": [
    {
     "data": {
      "text/plain": [
       "[]"
      ]
     },
     "execution_count": 57,
     "metadata": {},
     "output_type": "execute_result"
    },
    {
     "data": {
      "image/png": "[encoded data removed]",
      "text/plain": [
       "<Figure size 432x288 with 1 Axes>"
      ]
     },
     "metadata": {
      "needs_background": "light"
     },
     "output_type": "display_data"
    }
   ],
   "source": [
    "# Train the model\n",
    "history = model.fit(X, Y, epochs=1000, verbose=0)\n",
    "\n",
    "plt.plot(history.history['mean_squared_error'])\n",
    "plt.plot(history.history['binary_accuracy'])\n",
    "plt.ylabel('mean squared error / binary accuracy')\n",
    "plt.xlabel('epoch')\n",
    "plt.plot()"
   ]
  },
  {
   "cell_type": "markdown",
   "metadata": {},
   "source": [
    "Evaluate the model:"
   ]
  },
  {
   "cell_type": "code",
   "execution_count": 58,
   "metadata": {},
   "outputs": [
    {
     "name": "stdout",
     "output_type": "stream",
     "text": [
      "Mean squared error: 0.01\n",
      "Binary accuracy: 1.00\n"
     ]
    }
   ],
   "source": [
    "preds = model.predict(X)\n",
    "mse = mean_squared_error(preds, Y)\n",
    "print(\"Mean squared error: {0:.2f}\".format(mse))\n",
    "acc = accuracy_score(preds.round(), Y)\n",
    "print(\"Binary accuracy: {0:.2f}\".format(acc))"
   ]
  },
  {
   "cell_type": "code",
   "execution_count": 59,
   "metadata": {},
   "outputs": [
    {
     "data": {
      "text/plain": [
       "array([[0.11316001],\n",
       "       [0.930843  ],\n",
       "       [0.9241423 ],\n",
       "       [0.06833031]], dtype=float32)"
      ]
     },
     "execution_count": 59,
     "metadata": {},
     "output_type": "execute_result"
    }
   ],
   "source": [
    "preds"
   ]
  },
  {
   "cell_type": "markdown",
   "metadata": {},
   "source": [
    "Use the model"
   ]
  },
  {
   "cell_type": "code",
   "execution_count": 61,
   "metadata": {},
   "outputs": [
    {
     "name": "stdout",
     "output_type": "stream",
     "text": [
      "0\n",
      "1\n",
      "1\n",
      "0\n"
     ]
    }
   ],
   "source": [
    "print(format(my_xor(0,0, model)))\n",
    "print(format(my_xor(0,1, model)))\n",
    "print(format(my_xor(1,0, model)))\n",
    "print(format(my_xor(1,1, model)))"
   ]
  },
  {
   "cell_type": "code",
   "execution_count": 64,
   "metadata": {},
   "outputs": [
    {
     "data": {
      "text/plain": [
       "[<tf.Variable 'dense_17/kernel:0' shape=(2, 32) dtype=float32, numpy=\n",
       " array([[ 0.41652033,  0.7749157 ,  0.83778775,  0.64122725,  0.3972386 ,\n",
       "         -0.13516521, -0.60432655, -0.20290181, -0.7232665 , -0.35317   ,\n",
       "         -0.8889785 , -0.2863993 ,  0.54030126,  0.37175888, -0.82367843,\n",
       "         -0.33497408, -0.8567182 ,  0.5161414 , -0.25462216,  0.59564906,\n",
       "          0.80922335,  0.00252599,  0.3720131 , -0.1701207 ,  0.34805146,\n",
       "         -0.38333094, -0.17244412,  0.7132528 , -0.14648864, -0.17876345,\n",
       "         -0.6636416 , -0.39717668],\n",
       "        [ 0.41662493, -0.7749062 , -0.8376726 , -0.64101034,  0.40976927,\n",
       "         -0.09223783,  0.60428804, -0.09886253,  0.7417394 , -0.08979583,\n",
       "          1.1194593 ,  0.13293397,  0.5400226 ,  0.37171456,  0.8246372 ,\n",
       "         -0.43565178,  0.85677105,  0.51622313, -0.41895077, -0.5953253 ,\n",
       "         -0.8091849 , -0.3766787 ,  0.28819063, -0.38122708,  0.34833792,\n",
       "          0.15245543, -0.25060123, -0.7132655 , -0.30406952, -0.3443008 ,\n",
       "          0.66343206, -0.03848529]], dtype=float32)>,\n",
       " <tf.Variable 'dense_17/bias:0' shape=(32,) dtype=float32, numpy=\n",
       " array([-4.16518986e-01, -4.11640503e-05, -1.45169579e-05, -3.96516771e-06,\n",
       "        -1.09622735e-04,  0.00000000e+00,  2.90098578e-05,  0.00000000e+00,\n",
       "        -1.63983065e-03,  0.00000000e+00, -6.36966957e-04, -1.47912502e-01,\n",
       "        -5.39916575e-01, -3.71752203e-01, -5.50682598e-04,  1.15736163e+00,\n",
       "        -6.27825721e-05, -5.16140461e-01,  0.00000000e+00, -1.62737619e-04,\n",
       "        -8.02413124e-05, -2.25486048e-02,  1.79730232e-05,  0.00000000e+00,\n",
       "        -3.48306417e-01, -1.66664287e-01,  0.00000000e+00, -3.03934885e-05,\n",
       "         0.00000000e+00,  0.00000000e+00,  6.44910688e-05,  0.00000000e+00],\n",
       "       dtype=float32)>,\n",
       " <tf.Variable 'dense_18/kernel:0' shape=(32, 1) dtype=float32, numpy=\n",
       " array([[-0.8178053 ],\n",
       "        [ 1.0259871 ],\n",
       "        [ 0.7672013 ],\n",
       "        [ 0.9983522 ],\n",
       "        [ 0.3300904 ],\n",
       "        [ 0.1318875 ],\n",
       "        [ 0.9221373 ],\n",
       "        [ 0.20387506],\n",
       "        [ 1.0057546 ],\n",
       "        [ 0.2067241 ],\n",
       "        [ 0.7479725 ],\n",
       "        [-0.25578788],\n",
       "        [-0.83140665],\n",
       "        [-0.952559  ],\n",
       "        [ 0.946334  ],\n",
       "        [-1.0112743 ],\n",
       "        [ 0.5946371 ],\n",
       "        [-1.0230583 ],\n",
       "        [-0.04098088],\n",
       "        [ 0.9588608 ],\n",
       "        [ 0.7448052 ],\n",
       "        [-0.10435582],\n",
       "        [ 0.25728533],\n",
       "        [ 0.30141222],\n",
       "        [-0.8235109 ],\n",
       "        [-0.21171094],\n",
       "        [-0.28320622],\n",
       "        [ 1.0405817 ],\n",
       "        [ 0.40911728],\n",
       "        [ 0.37331975],\n",
       "        [ 0.87603277],\n",
       "        [ 0.19098908]], dtype=float32)>,\n",
       " <tf.Variable 'dense_18/bias:0' shape=(1,) dtype=float32, numpy=array([-0.8885394], dtype=float32)>]"
      ]
     },
     "execution_count": 64,
     "metadata": {},
     "output_type": "execute_result"
    }
   ],
   "source": [
    "model.trainable_weights"
   ]
  }
 ],
 "metadata": {
  "kernelspec": {
   "display_name": "Python 3",
   "language": "python",
   "name": "python3"
  },
  "language_info": {
   "codemirror_mode": {
    "name": "ipython",
    "version": 3
   },
   "file_extension": ".py",
   "mimetype": "text/x-python",
   "name": "python",
   "nbconvert_exporter": "python",
   "pygments_lexer": "ipython3",
   "version": "3.7.4"
  }
 },
 "nbformat": 4,
 "nbformat_minor": 2
}
