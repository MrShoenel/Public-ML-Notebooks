{
 "cells": [
  {
   "cell_type": "markdown",
   "metadata": {},
   "source": [
    "# Convolutional Neural Networks for digit image classification"
   ]
  },
  {
   "cell_type": "markdown",
   "metadata": {},
   "source": [
    "The popular [MNIST](https://en.wikipedia.org/wiki/MNIST_database) handwritten digit image classification dataset contains 60′000 + 10′000 hand- written digits to be classified as a number between 0 and 9.\n",
    "\n",
    "The sequence of (more and more complex) models defined below will eventually arrive at the one suggested in this [tutorial](https://machinelearningmastery.com/tensorflow-tutorial-deep-learning-with-tf-keras/)."
   ]
  },
  {
   "cell_type": "markdown",
   "metadata": {},
   "source": [
    "## Steps"
   ]
  },
  {
   "cell_type": "markdown",
   "metadata": {},
   "source": [
    "1. Loading and plotting the mnist dataset\n",
    "2. Setting the sceene for image classification \n",
    "3. Defining and evaluating the baseline model \n",
    "4. Adding Pooling\n",
    "5. Adding a CNN Kernel\n",
    "6. Adding another dense output layer"
   ]
  },
  {
   "cell_type": "markdown",
   "metadata": {},
   "source": [
    "## Loading and plotting the MNIST dataset"
   ]
  },
  {
   "cell_type": "code",
   "execution_count": 6,
   "metadata": {},
   "outputs": [
    {
     "name": "stdout",
     "output_type": "stream",
     "text": [
      "Train: X=(60000, 28, 28), y=(60000,)\n",
      "Test: X=(10000, 28, 28), y=(10000,)\n"
     ]
    },
    {
     "data": {
      "image/png": "[encoded data removed]",
      "text/plain": [
       "<Figure size 432x288 with 25 Axes>"
      ]
     },
     "metadata": {
      "needs_background": "light"
     },
     "output_type": "display_data"
    }
   ],
   "source": [
    "from tensorflow.keras.datasets.mnist import load_data \n",
    "from matplotlib import pyplot\n",
    "\n",
    "# load dataset\n",
    "(x_train, y_train), (x_test, y_test) = load_data()\n",
    "\n",
    "# summarize loaded dataset\n",
    "print('Train: X=%s, y=%s' % (x_train.shape, y_train.shape)) \n",
    "print('Test: X=%s, y=%s' % (x_test.shape, y_test.shape))\n",
    "\n",
    "# plot first few images\n",
    "for i in range(25):\n",
    "    # define subplot\n",
    "    pyplot.subplot(5, 5, i+1)\n",
    "    # plot raw pixel data\n",
    "    pyplot.imshow(x_test[i], cmap=pyplot.get_cmap('gray'))\n",
    "\n",
    "# show the figure\n",
    "pyplot.show()"
   ]
  },
  {
   "cell_type": "markdown",
   "metadata": {},
   "source": [
    "## Setting the sceene for image classification"
   ]
  },
  {
   "cell_type": "markdown",
   "metadata": {},
   "source": [
    "Fix necessary imports."
   ]
  },
  {
   "cell_type": "code",
   "execution_count": 7,
   "metadata": {},
   "outputs": [],
   "source": [
    "from numpy import zeros\n",
    "from numpy import unique\n",
    "from numpy import argmax\n",
    "from numpy import asarray\n",
    "from tensorflow.keras import Sequential\n",
    "from tensorflow.keras.layers import Dense\n",
    "from tensorflow.keras.layers import Conv2D\n",
    "from tensorflow.keras.layers import MaxPool2D\n",
    "from tensorflow.keras.layers import Flatten\n",
    "from tensorflow.keras.layers import Dropout\n",
    "from tensorflow.keras.utils import plot_model\n",
    "from tensorflow.keras.callbacks import EarlyStopping \n",
    "from tensorflow.keras.metrics import Accuracy"
   ]
  },
  {
   "cell_type": "markdown",
   "metadata": {},
   "source": [
    "Reshape data to have a single b/w channel."
   ]
  },
  {
   "cell_type": "code",
   "execution_count": 8,
   "metadata": {},
   "outputs": [
    {
     "name": "stdout",
     "output_type": "stream",
     "text": [
      "Before: (28, 28)\n",
      "After: (28, 28, 1)\n"
     ]
    }
   ],
   "source": [
    "orig_shape = x_train.shape[1:]\n",
    "x_train = x_train.reshape((x_train.shape[0], x_train.shape[1], x_train.shape[2], 1))\n",
    "x_test = x_test.reshape((x_test.shape[0], x_test.shape[1], x_test.shape[2], 1))\n",
    "in_shape = x_train.shape[1:]\n",
    "print(\"Before: {0}\".format(orig_shape))\n",
    "print(\"After: {0}\".format(in_shape))"
   ]
  },
  {
   "cell_type": "markdown",
   "metadata": {},
   "source": [
    "Determine the number of classes."
   ]
  },
  {
   "cell_type": "code",
   "execution_count": 9,
   "metadata": {},
   "outputs": [
    {
     "name": "stdout",
     "output_type": "stream",
     "text": [
      "Classes: 10\n"
     ]
    }
   ],
   "source": [
    "n_classes = len(unique(y_train)) \n",
    "print(\"Classes: {0}\".format(n_classes))"
   ]
  },
  {
   "cell_type": "markdown",
   "metadata": {},
   "source": [
    "Normalize pixel values `int[0..255]` $\\rightarrow$ `float32[0..1]`."
   ]
  },
  {
   "cell_type": "code",
   "execution_count": 10,
   "metadata": {},
   "outputs": [],
   "source": [
    "x_train = x_train.astype('float32') / 255.0\n",
    "x_test = x_test.astype('float32') / 255.0"
   ]
  },
  {
   "cell_type": "markdown",
   "metadata": {},
   "source": [
    "Function to define the CNN model architecture and compile it with constant surrogate goal function (loss), evaluation metrics, and optimizer. We will vary depth, kernel_width, and pool_stride of the models."
   ]
  },
  {
   "cell_type": "code",
   "execution_count": 11,
   "metadata": {},
   "outputs": [],
   "source": [
    "def make_model(depth, kernel_width, pool_stride, add_dense=False):\n",
    "    model = Sequential()\n",
    "    model.add(Conv2D(depth, (kernel_width,kernel_width), activation='relu',input_shape=in_shape))\n",
    "    model.add(MaxPool2D((pool_stride, pool_stride)))\n",
    "    model.add(Flatten())\n",
    "    if add_dense:\n",
    "        model.add(Dense(100, activation='relu'))\n",
    "        model.add(Dropout(0.5))\n",
    "    model.add(Dense(n_classes, activation='softmax')) \n",
    "    model.compile(optimizer='adam', loss='sparse_categorical_crossentropy',metrics=['accuracy'])\n",
    "    return model"
   ]
  },
  {
   "cell_type": "markdown",
   "metadata": {},
   "source": [
    "Define learning parameters for all models."
   ]
  },
  {
   "cell_type": "code",
   "execution_count": 45,
   "metadata": {},
   "outputs": [],
   "source": [
    "EPOCHS = 10\n",
    "BATCH_SIZE = 128\n",
    "early_stopping = EarlyStopping(\n",
    "    monitor='val_accuracy',\n",
    "    verbose=1,\n",
    "    patience=10,\n",
    "    mode='max', \n",
    "    restore_best_weights=True)\n",
    "it = round(60000/BATCH_SIZE)"
   ]
  },
  {
   "cell_type": "markdown",
   "metadata": {
    "variables": {
     "it": "469"
    }
   },
   "source": [
    "It takes {{it}} iterations to finish an epch."
   ]
  },
  {
   "cell_type": "markdown",
   "metadata": {},
   "source": [
    "Function to show the history of training."
   ]
  },
  {
   "cell_type": "code",
   "execution_count": 13,
   "metadata": {},
   "outputs": [],
   "source": [
    "def plot_metrics(history):\n",
    "    colors = pyplot.rcParams['axes.prop_cycle'].by_key()['color'] \n",
    "    metrics = ['loss', 'accuracy'] \n",
    "    pyplot.figure(figsize=(10,5))\n",
    "    for n, metric in enumerate(metrics):\n",
    "        name = metric.replace(\"_\",\" \").capitalize()\n",
    "        pyplot.subplot(1,2,n+1)\n",
    "        pyplot.plot(history.epoch, history.history[metric], color=colors[0],label='Train')\n",
    "        pyplot.plot(history.epoch, history.history['val_'+ metric],color=colors[0], linestyle=\"--\", label='Val') \n",
    "        pyplot.xlabel('Epoch')\n",
    "        pyplot.ylabel(name)\n",
    "        if metric == 'loss':\n",
    "            pyplot.ylim([0, pyplot.ylim()[1] +0.1]) \n",
    "        else:\n",
    "            pyplot.ylim([-0.1,1.1])\n",
    "        pyplot.legend()"
   ]
  },
  {
   "cell_type": "markdown",
   "metadata": {},
   "source": [
    "## Baseline"
   ]
  },
  {
   "cell_type": "markdown",
   "metadata": {},
   "source": [
    "We set `depth=1`, `kernel_width=1x1`, and `pool_stride=1`, i.e., no effective CNN."
   ]
  },
  {
   "cell_type": "code",
   "execution_count": 14,
   "metadata": {},
   "outputs": [
    {
     "name": "stdout",
     "output_type": "stream",
     "text": [
      "Model: \"sequential\"\n",
      "_________________________________________________________________\n",
      "Layer (type)                 Output Shape              Param #   \n",
      "=================================================================\n",
      "conv2d (Conv2D)              (None, 28, 28, 1)         2         \n",
      "_________________________________________________________________\n",
      "max_pooling2d (MaxPooling2D) (None, 28, 28, 1)         0         \n",
      "_________________________________________________________________\n",
      "flatten (Flatten)            (None, 784)               0         \n",
      "_________________________________________________________________\n",
      "dense (Dense)                (None, 10)                7850      \n",
      "=================================================================\n",
      "Total params: 7,852\n",
      "Trainable params: 7,852\n",
      "Non-trainable params: 0\n",
      "_________________________________________________________________\n"
     ]
    }
   ],
   "source": [
    "baseline = make_model(1,1,1)\n",
    "baseline.summary()"
   ]
  },
  {
   "cell_type": "markdown",
   "metadata": {},
   "source": [
    "Note that the kernel has one weight and one bias, i.e., `Param = 2` for the CNN layer. The output of the CNN and the pooling layers are equal to their inputs.\n",
    "\n",
    "We train the baseline model."
   ]
  },
  {
   "cell_type": "code",
   "execution_count": 15,
   "metadata": {},
   "outputs": [
    {
     "name": "stdout",
     "output_type": "stream",
     "text": [
      "Epoch 1/10\n",
      "469/469 [==============================] - 4s 8ms/step - loss: 2.3019 - accuracy: 0.1087 - val_loss: 2.3011 - val_accuracy: 0.1135\n",
      "Epoch 2/10\n",
      "469/469 [==============================] - 3s 6ms/step - loss: 2.3014 - accuracy: 0.1118 - val_loss: 2.3010 - val_accuracy: 0.1135\n",
      "Epoch 3/10\n",
      "469/469 [==============================] - 3s 6ms/step - loss: 2.3012 - accuracy: 0.1141 - val_loss: 2.3010 - val_accuracy: 0.1135\n",
      "Epoch 4/10\n",
      "469/469 [==============================] - 3s 6ms/step - loss: 2.3013 - accuracy: 0.1102 - val_loss: 2.3010 - val_accuracy: 0.1135\n",
      "Epoch 5/10\n",
      "469/469 [==============================] - 3s 6ms/step - loss: 2.3013 - accuracy: 0.1094 - val_loss: 2.3010 - val_accuracy: 0.1135\n",
      "Epoch 6/10\n",
      "469/469 [==============================] - 3s 6ms/step - loss: 2.3012 - accuracy: 0.1123 - val_loss: 2.3010 - val_accuracy: 0.1135\n",
      "Epoch 7/10\n",
      "469/469 [==============================] - 3s 7ms/step - loss: 2.3012 - accuracy: 0.1107 - val_loss: 2.3010 - val_accuracy: 0.1135\n",
      "Epoch 8/10\n",
      "469/469 [==============================] - 3s 7ms/step - loss: 2.3010 - accuracy: 0.1139 - val_loss: 2.3010 - val_accuracy: 0.1135\n",
      "Epoch 9/10\n",
      "469/469 [==============================] - 3s 7ms/step - loss: 2.3013 - accuracy: 0.1126 - val_loss: 2.3010 - val_accuracy: 0.1135\n",
      "Epoch 10/10\n",
      "469/469 [==============================] - 3s 7ms/step - loss: 2.3012 - accuracy: 0.1126 - val_loss: 2.3010 - val_accuracy: 0.1135\n"
     ]
    }
   ],
   "source": [
    "baseline_history = baseline.fit(\n",
    "    x_train,\n",
    "    y_train,\n",
    "    epochs=EPOCHS,\n",
    "    callbacks = [early_stopping],\n",
    "    validation_data=(x_test, y_test),\n",
    "    batch_size=BATCH_SIZE)"
   ]
  },
  {
   "cell_type": "code",
   "execution_count": 16,
   "metadata": {},
   "outputs": [
    {
     "data": {
      "image/png": "[encoded data removed]",
      "text/plain": [
       "<Figure size 720x360 with 2 Axes>"
      ]
     },
     "metadata": {
      "needs_background": "light"
     },
     "output_type": "display_data"
    }
   ],
   "source": [
    "plot_metrics(baseline_history)"
   ]
  },
  {
   "cell_type": "markdown",
   "metadata": {},
   "source": [
    "We evaluate the trained model."
   ]
  },
  {
   "cell_type": "code",
   "execution_count": 17,
   "metadata": {},
   "outputs": [
    {
     "name": "stdout",
     "output_type": "stream",
     "text": [
      "Accuracy: 0.113\n"
     ]
    }
   ],
   "source": [
    "loss, acc = baseline.evaluate(x_test, y_test, verbose=0) \n",
    "print('Accuracy: %.3f' % acc)"
   ]
  },
  {
   "cell_type": "markdown",
   "metadata": {},
   "source": [
    "Use the model to make a prediction."
   ]
  },
  {
   "cell_type": "code",
   "execution_count": 18,
   "metadata": {},
   "outputs": [
    {
     "data": {
      "text/plain": [
       "1"
      ]
     },
     "execution_count": 18,
     "metadata": {},
     "output_type": "execute_result"
    }
   ],
   "source": [
    "xx = x_test[9]\n",
    "xxx = asarray([xx])\n",
    "yhat = baseline.predict(xxx)\n",
    "argmax(yhat)"
   ]
  },
  {
   "cell_type": "code",
   "execution_count": 19,
   "metadata": {},
   "outputs": [],
   "source": [
    "def print_res(model): \n",
    "    err = 0\n",
    "    i_range = 10\n",
    "    ys = zeros(i_range * i_range) \n",
    "    class bcolors:\n",
    "        FAIL = '\\033[91m'\n",
    "        ENDC = '\\033[0m' \n",
    "    for i in range(10):\n",
    "        for j in range(i_range):\n",
    "            idx = i*i_range+j\n",
    "            image = x_test[idx]\n",
    "            yhat = model.predict(asarray([image]))\n",
    "            ys[idx] = argmax(yhat) \n",
    "            print('%d ' % ys[idx], end = '')\n",
    "        print()\n",
    "    print(\"--\")\n",
    "    for i in range(i_range): \n",
    "        for j in range(i_range):\n",
    "            idx = i*i_range+j; \n",
    "            y = y_test[idx] \n",
    "            if y==ys[idx]:\n",
    "                print('%d ' % y, end = '')\n",
    "            else:\n",
    "                err = err + 1\n",
    "                print(f\"{bcolors.FAIL}%d {bcolors.ENDC}\" % y, end = '') \n",
    "        print()\n",
    "    return err"
   ]
  },
  {
   "cell_type": "code",
   "execution_count": 20,
   "metadata": {},
   "outputs": [
    {
     "name": "stdout",
     "output_type": "stream",
     "text": [
      "1 1 1 1 1 1 1 1 1 1 \n",
      "1 1 1 1 1 1 1 1 1 1 \n",
      "1 1 1 1 1 1 1 1 1 1 \n",
      "1 1 1 1 1 1 1 1 1 1 \n",
      "1 1 1 1 1 1 1 1 1 1 \n",
      "1 1 1 1 1 1 1 1 1 1 \n",
      "1 1 1 1 1 1 1 1 1 1 \n",
      "1 1 1 1 1 1 1 1 1 1 \n",
      "1 1 1 1 1 1 1 1 1 1 \n",
      "1 1 1 1 1 1 1 1 1 1 \n",
      "--\n",
      "\u001b[91m7 \u001b[0m\u001b[91m2 \u001b[0m1 \u001b[91m0 \u001b[0m\u001b[91m4 \u001b[0m1 \u001b[91m4 \u001b[0m\u001b[91m9 \u001b[0m\u001b[91m5 \u001b[0m\u001b[91m9 \u001b[0m\n",
      "\u001b[91m0 \u001b[0m\u001b[91m6 \u001b[0m\u001b[91m9 \u001b[0m\u001b[91m0 \u001b[0m1 \u001b[91m5 \u001b[0m\u001b[91m9 \u001b[0m\u001b[91m7 \u001b[0m\u001b[91m3 \u001b[0m\u001b[91m4 \u001b[0m\n",
      "\u001b[91m9 \u001b[0m\u001b[91m6 \u001b[0m\u001b[91m6 \u001b[0m\u001b[91m5 \u001b[0m\u001b[91m4 \u001b[0m\u001b[91m0 \u001b[0m\u001b[91m7 \u001b[0m\u001b[91m4 \u001b[0m\u001b[91m0 \u001b[0m1 \n",
      "\u001b[91m3 \u001b[0m1 \u001b[91m3 \u001b[0m\u001b[91m4 \u001b[0m\u001b[91m7 \u001b[0m\u001b[91m2 \u001b[0m\u001b[91m7 \u001b[0m1 \u001b[91m2 \u001b[0m1 \n",
      "1 \u001b[91m7 \u001b[0m\u001b[91m4 \u001b[0m\u001b[91m2 \u001b[0m\u001b[91m3 \u001b[0m\u001b[91m5 \u001b[0m1 \u001b[91m2 \u001b[0m\u001b[91m4 \u001b[0m\u001b[91m4 \u001b[0m\n",
      "\u001b[91m6 \u001b[0m\u001b[91m3 \u001b[0m\u001b[91m5 \u001b[0m\u001b[91m5 \u001b[0m\u001b[91m6 \u001b[0m\u001b[91m0 \u001b[0m\u001b[91m4 \u001b[0m1 \u001b[91m9 \u001b[0m\u001b[91m5 \u001b[0m\n",
      "\u001b[91m7 \u001b[0m\u001b[91m8 \u001b[0m\u001b[91m9 \u001b[0m\u001b[91m3 \u001b[0m\u001b[91m7 \u001b[0m\u001b[91m4 \u001b[0m\u001b[91m6 \u001b[0m\u001b[91m4 \u001b[0m\u001b[91m3 \u001b[0m\u001b[91m0 \u001b[0m\n",
      "\u001b[91m7 \u001b[0m\u001b[91m0 \u001b[0m\u001b[91m2 \u001b[0m\u001b[91m9 \u001b[0m1 \u001b[91m7 \u001b[0m\u001b[91m3 \u001b[0m\u001b[91m2 \u001b[0m\u001b[91m9 \u001b[0m\u001b[91m7 \u001b[0m\n",
      "\u001b[91m7 \u001b[0m\u001b[91m6 \u001b[0m\u001b[91m2 \u001b[0m\u001b[91m7 \u001b[0m\u001b[91m8 \u001b[0m\u001b[91m4 \u001b[0m\u001b[91m7 \u001b[0m\u001b[91m3 \u001b[0m\u001b[91m6 \u001b[0m1 \n",
      "\u001b[91m3 \u001b[0m\u001b[91m6 \u001b[0m\u001b[91m9 \u001b[0m\u001b[91m3 \u001b[0m1 \u001b[91m4 \u001b[0m1 \u001b[91m7 \u001b[0m\u001b[91m6 \u001b[0m\u001b[91m9 \u001b[0m\n"
     ]
    },
    {
     "data": {
      "text/plain": [
       "86"
      ]
     },
     "execution_count": 20,
     "metadata": {},
     "output_type": "execute_result"
    }
   ],
   "source": [
    "print_res(baseline)"
   ]
  },
  {
   "cell_type": "markdown",
   "metadata": {},
   "source": [
    "There are 5 mistatakes in the first 100 images. The classic dense layer does quite good already."
   ]
  },
  {
   "cell_type": "markdown",
   "metadata": {},
   "source": [
    "## Adding Pooling"
   ]
  },
  {
   "cell_type": "markdown",
   "metadata": {},
   "source": [
    "We set `depth=1`, `kernel_width=1x1`, and `pool_stride=2`, i.e., no effective CNN and we even squeeze the image size."
   ]
  },
  {
   "cell_type": "code",
   "execution_count": 21,
   "metadata": {},
   "outputs": [
    {
     "name": "stdout",
     "output_type": "stream",
     "text": [
      "Model: \"sequential_1\"\n",
      "_________________________________________________________________\n",
      "Layer (type)                 Output Shape              Param #   \n",
      "=================================================================\n",
      "conv2d_1 (Conv2D)            (None, 28, 28, 1)         2         \n",
      "_________________________________________________________________\n",
      "max_pooling2d_1 (MaxPooling2 (None, 14, 14, 1)         0         \n",
      "_________________________________________________________________\n",
      "flatten_1 (Flatten)          (None, 196)               0         \n",
      "_________________________________________________________________\n",
      "dense_1 (Dense)              (None, 10)                1970      \n",
      "=================================================================\n",
      "Total params: 1,972\n",
      "Trainable params: 1,972\n",
      "Non-trainable params: 0\n",
      "_________________________________________________________________\n"
     ]
    }
   ],
   "source": [
    "model1 = make_model(1,1,2, False)\n",
    "model1.summary()"
   ]
  },
  {
   "cell_type": "markdown",
   "metadata": {},
   "source": [
    "The kernel has still one weight and one bias, i.e., `Param = 2` for the CNN layer. The output of the pooling layers is one quater (half in each dimension) of the CNN in- and output.\n",
    "\n",
    "We train the first CNN model."
   ]
  },
  {
   "cell_type": "code",
   "execution_count": 22,
   "metadata": {},
   "outputs": [
    {
     "name": "stdout",
     "output_type": "stream",
     "text": [
      "Epoch 1/10\n",
      "469/469 [==============================] - 3s 5ms/step - loss: 2.3020 - accuracy: 0.1104 - val_loss: 2.3010 - val_accuracy: 0.1135\n",
      "Epoch 2/10\n",
      "469/469 [==============================] - 2s 5ms/step - loss: 2.3012 - accuracy: 0.1124 - val_loss: 2.3010 - val_accuracy: 0.1135\n",
      "Epoch 3/10\n",
      "469/469 [==============================] - 2s 5ms/step - loss: 2.3015 - accuracy: 0.1108 - val_loss: 2.3011 - val_accuracy: 0.1135\n",
      "Epoch 4/10\n",
      "469/469 [==============================] - 2s 5ms/step - loss: 2.3007 - accuracy: 0.1135 - val_loss: 2.3011 - val_accuracy: 0.1135\n",
      "Epoch 5/10\n",
      "469/469 [==============================] - 2s 5ms/step - loss: 2.3009 - accuracy: 0.1133 - val_loss: 2.3010 - val_accuracy: 0.1135\n",
      "Epoch 6/10\n",
      "469/469 [==============================] - 2s 5ms/step - loss: 2.3013 - accuracy: 0.1119 - val_loss: 2.3010 - val_accuracy: 0.1135\n",
      "Epoch 7/10\n",
      "469/469 [==============================] - 2s 5ms/step - loss: 2.3013 - accuracy: 0.1118 - val_loss: 2.3010 - val_accuracy: 0.1135\n",
      "Epoch 8/10\n",
      "469/469 [==============================] - 2s 5ms/step - loss: 2.3015 - accuracy: 0.1095 - val_loss: 2.3010 - val_accuracy: 0.1135\n",
      "Epoch 9/10\n",
      "469/469 [==============================] - 2s 5ms/step - loss: 2.3011 - accuracy: 0.1129 - val_loss: 2.3010 - val_accuracy: 0.1135\n",
      "Epoch 10/10\n",
      "469/469 [==============================] - 2s 5ms/step - loss: 2.3018 - accuracy: 0.1113 - val_loss: 2.3010 - val_accuracy: 0.1135\n"
     ]
    }
   ],
   "source": [
    "model1_history = model1.fit(\n",
    "    x_train,\n",
    "    y_train,\n",
    "    epochs=EPOCHS,\n",
    "    callbacks = [early_stopping],\n",
    "    validation_data=(x_test, y_test),\n",
    "    batch_size=BATCH_SIZE)"
   ]
  },
  {
   "cell_type": "code",
   "execution_count": 23,
   "metadata": {},
   "outputs": [
    {
     "data": {
      "image/png": "[encoded data removed]",
      "text/plain": [
       "<Figure size 720x360 with 2 Axes>"
      ]
     },
     "metadata": {
      "needs_background": "light"
     },
     "output_type": "display_data"
    }
   ],
   "source": [
    "plot_metrics(model1_history)"
   ]
  },
  {
   "cell_type": "markdown",
   "metadata": {},
   "source": [
    "We evaluate the trained model."
   ]
  },
  {
   "cell_type": "code",
   "execution_count": 24,
   "metadata": {},
   "outputs": [
    {
     "name": "stdout",
     "output_type": "stream",
     "text": [
      "Accuracy: 0.113\n"
     ]
    }
   ],
   "source": [
    "loss, acc = model1.evaluate(x_test, y_test, verbose=0) \n",
    "print('Accuracy: %.3f' % acc)"
   ]
  },
  {
   "cell_type": "markdown",
   "metadata": {},
   "source": [
    "Gets worse. Use the model to make a prediction."
   ]
  },
  {
   "cell_type": "code",
   "execution_count": 25,
   "metadata": {},
   "outputs": [
    {
     "name": "stdout",
     "output_type": "stream",
     "text": [
      "1 1 1 1 1 1 1 1 1 1 \n",
      "1 1 1 1 1 1 1 1 1 1 \n",
      "1 1 1 1 1 1 1 1 1 1 \n",
      "1 1 1 1 1 1 1 1 1 1 \n",
      "1 1 1 1 1 1 1 1 1 1 \n",
      "1 1 1 1 1 1 1 1 1 1 \n",
      "1 1 1 1 1 1 1 1 1 1 \n",
      "1 1 1 1 1 1 1 1 1 1 \n",
      "1 1 1 1 1 1 1 1 1 1 \n",
      "1 1 1 1 1 1 1 1 1 1 \n",
      "--\n",
      "\u001b[91m7 \u001b[0m\u001b[91m2 \u001b[0m1 \u001b[91m0 \u001b[0m\u001b[91m4 \u001b[0m1 \u001b[91m4 \u001b[0m\u001b[91m9 \u001b[0m\u001b[91m5 \u001b[0m\u001b[91m9 \u001b[0m\n",
      "\u001b[91m0 \u001b[0m\u001b[91m6 \u001b[0m\u001b[91m9 \u001b[0m\u001b[91m0 \u001b[0m1 \u001b[91m5 \u001b[0m\u001b[91m9 \u001b[0m\u001b[91m7 \u001b[0m\u001b[91m3 \u001b[0m\u001b[91m4 \u001b[0m\n",
      "\u001b[91m9 \u001b[0m\u001b[91m6 \u001b[0m\u001b[91m6 \u001b[0m\u001b[91m5 \u001b[0m\u001b[91m4 \u001b[0m\u001b[91m0 \u001b[0m\u001b[91m7 \u001b[0m\u001b[91m4 \u001b[0m\u001b[91m0 \u001b[0m1 \n",
      "\u001b[91m3 \u001b[0m1 \u001b[91m3 \u001b[0m\u001b[91m4 \u001b[0m\u001b[91m7 \u001b[0m\u001b[91m2 \u001b[0m\u001b[91m7 \u001b[0m1 \u001b[91m2 \u001b[0m1 \n",
      "1 \u001b[91m7 \u001b[0m\u001b[91m4 \u001b[0m\u001b[91m2 \u001b[0m\u001b[91m3 \u001b[0m\u001b[91m5 \u001b[0m1 \u001b[91m2 \u001b[0m\u001b[91m4 \u001b[0m\u001b[91m4 \u001b[0m\n",
      "\u001b[91m6 \u001b[0m\u001b[91m3 \u001b[0m\u001b[91m5 \u001b[0m\u001b[91m5 \u001b[0m\u001b[91m6 \u001b[0m\u001b[91m0 \u001b[0m\u001b[91m4 \u001b[0m1 \u001b[91m9 \u001b[0m\u001b[91m5 \u001b[0m\n",
      "\u001b[91m7 \u001b[0m\u001b[91m8 \u001b[0m\u001b[91m9 \u001b[0m\u001b[91m3 \u001b[0m\u001b[91m7 \u001b[0m\u001b[91m4 \u001b[0m\u001b[91m6 \u001b[0m\u001b[91m4 \u001b[0m\u001b[91m3 \u001b[0m\u001b[91m0 \u001b[0m\n",
      "\u001b[91m7 \u001b[0m\u001b[91m0 \u001b[0m\u001b[91m2 \u001b[0m\u001b[91m9 \u001b[0m1 \u001b[91m7 \u001b[0m\u001b[91m3 \u001b[0m\u001b[91m2 \u001b[0m\u001b[91m9 \u001b[0m\u001b[91m7 \u001b[0m\n",
      "\u001b[91m7 \u001b[0m\u001b[91m6 \u001b[0m\u001b[91m2 \u001b[0m\u001b[91m7 \u001b[0m\u001b[91m8 \u001b[0m\u001b[91m4 \u001b[0m\u001b[91m7 \u001b[0m\u001b[91m3 \u001b[0m\u001b[91m6 \u001b[0m1 \n",
      "\u001b[91m3 \u001b[0m\u001b[91m6 \u001b[0m\u001b[91m9 \u001b[0m\u001b[91m3 \u001b[0m1 \u001b[91m4 \u001b[0m1 \u001b[91m7 \u001b[0m\u001b[91m6 \u001b[0m\u001b[91m9 \u001b[0m\n"
     ]
    },
    {
     "data": {
      "text/plain": [
       "86"
      ]
     },
     "execution_count": 25,
     "metadata": {},
     "output_type": "execute_result"
    }
   ],
   "source": [
    "print_res(model1)"
   ]
  },
  {
   "cell_type": "markdown",
   "metadata": {},
   "source": [
    "No surprise that the accuracy drops and that there are more mistatakes 6 in the first 100 images."
   ]
  },
  {
   "cell_type": "markdown",
   "metadata": {},
   "source": [
    "## Adding a CNN Kernel"
   ]
  },
  {
   "cell_type": "code",
   "execution_count": 26,
   "metadata": {},
   "outputs": [
    {
     "name": "stdout",
     "output_type": "stream",
     "text": [
      "Model: \"sequential_2\"\n",
      "_________________________________________________________________\n",
      "Layer (type)                 Output Shape              Param #   \n",
      "=================================================================\n",
      "conv2d_2 (Conv2D)            (None, 26, 26, 1)         10        \n",
      "_________________________________________________________________\n",
      "max_pooling2d_2 (MaxPooling2 (None, 13, 13, 1)         0         \n",
      "_________________________________________________________________\n",
      "flatten_2 (Flatten)          (None, 169)               0         \n",
      "_________________________________________________________________\n",
      "dense_2 (Dense)              (None, 10)                1700      \n",
      "=================================================================\n",
      "Total params: 1,710\n",
      "Trainable params: 1,710\n",
      "Non-trainable params: 0\n",
      "_________________________________________________________________\n"
     ]
    }
   ],
   "source": [
    "model2 = make_model(1,3,2)\n",
    "model2.summary()"
   ]
  },
  {
   "cell_type": "markdown",
   "metadata": {},
   "source": [
    "The kernel has still 3 × 3 weights and one bias, i.e., `Param = 10` for the CNN layer. No padding is applied, so the CNN layer ‘eats’ one pixel at the corners, i.e., its output shape is `(26, 26, 1)`. The output of the pooling layers is one quater (half in x and y dimension) of the CNN output.\n",
    "\n",
    "We train the first real CNN model."
   ]
  },
  {
   "cell_type": "code",
   "execution_count": 27,
   "metadata": {},
   "outputs": [
    {
     "name": "stdout",
     "output_type": "stream",
     "text": [
      "Epoch 1/10\n",
      "469/469 [==============================] - 4s 7ms/step - loss: 1.6590 - accuracy: 0.4697 - val_loss: 0.3976 - val_accuracy: 0.8886\n",
      "Epoch 2/10\n",
      "469/469 [==============================] - 3s 7ms/step - loss: 0.3928 - accuracy: 0.8864 - val_loss: 0.3242 - val_accuracy: 0.9083\n",
      "Epoch 3/10\n",
      "469/469 [==============================] - 3s 7ms/step - loss: 0.3391 - accuracy: 0.9011 - val_loss: 0.3025 - val_accuracy: 0.9121\n",
      "Epoch 4/10\n",
      "469/469 [==============================] - 3s 7ms/step - loss: 0.3136 - accuracy: 0.9107 - val_loss: 0.2913 - val_accuracy: 0.9165\n",
      "Epoch 5/10\n",
      "469/469 [==============================] - 3s 7ms/step - loss: 0.3051 - accuracy: 0.9113 - val_loss: 0.2863 - val_accuracy: 0.9186\n",
      "Epoch 6/10\n",
      "469/469 [==============================] - 3s 7ms/step - loss: 0.2916 - accuracy: 0.9147 - val_loss: 0.2800 - val_accuracy: 0.9194\n",
      "Epoch 7/10\n",
      "469/469 [==============================] - 3s 7ms/step - loss: 0.2934 - accuracy: 0.9149 - val_loss: 0.2796 - val_accuracy: 0.9194\n",
      "Epoch 8/10\n",
      "469/469 [==============================] - 3s 7ms/step - loss: 0.2858 - accuracy: 0.9185 - val_loss: 0.2798 - val_accuracy: 0.9199\n",
      "Epoch 9/10\n",
      "469/469 [==============================] - 3s 7ms/step - loss: 0.2778 - accuracy: 0.9182 - val_loss: 0.2751 - val_accuracy: 0.9194\n",
      "Epoch 10/10\n",
      "469/469 [==============================] - 4s 8ms/step - loss: 0.2855 - accuracy: 0.9176 - val_loss: 0.2707 - val_accuracy: 0.9221\n"
     ]
    }
   ],
   "source": [
    "model2_history = model2.fit(\n",
    "    x_train,\n",
    "    y_train,\n",
    "    epochs=EPOCHS,\n",
    "    callbacks = [early_stopping],\n",
    "    validation_data=(x_test, y_test),\n",
    "    batch_size=BATCH_SIZE)"
   ]
  },
  {
   "cell_type": "code",
   "execution_count": 28,
   "metadata": {},
   "outputs": [
    {
     "data": {
      "image/png": "[encoded data removed]",
      "text/plain": [
       "<Figure size 720x360 with 2 Axes>"
      ]
     },
     "metadata": {
      "needs_background": "light"
     },
     "output_type": "display_data"
    }
   ],
   "source": [
    "plot_metrics(model2_history)"
   ]
  },
  {
   "cell_type": "markdown",
   "metadata": {},
   "source": [
    "We evaluate the trained model."
   ]
  },
  {
   "cell_type": "code",
   "execution_count": 29,
   "metadata": {},
   "outputs": [
    {
     "name": "stdout",
     "output_type": "stream",
     "text": [
      "Accuracy: 0.922\n"
     ]
    }
   ],
   "source": [
    "loss, acc = model2.evaluate(x_test, y_test, verbose=0) \n",
    "print('Accuracy: %.3f' % acc)"
   ]
  },
  {
   "cell_type": "markdown",
   "metadata": {},
   "source": [
    "Use the model to make a prediction."
   ]
  },
  {
   "cell_type": "code",
   "execution_count": 30,
   "metadata": {},
   "outputs": [
    {
     "name": "stdout",
     "output_type": "stream",
     "text": [
      "7 2 1 0 4 1 4 9 6 9 \n",
      "0 6 9 0 1 5 9 7 3 4 \n",
      "9 6 6 5 4 0 7 4 0 1 \n",
      "3 1 3 6 7 2 7 1 2 1 \n",
      "1 7 4 2 3 5 1 2 4 4 \n",
      "6 3 5 5 6 0 4 1 9 5 \n",
      "7 8 9 2 7 4 6 4 3 0 \n",
      "7 0 2 9 1 7 3 2 9 7 \n",
      "7 6 2 7 8 4 7 3 6 1 \n",
      "3 6 4 3 1 4 1 7 6 9 \n",
      "--\n",
      "7 2 1 0 4 1 4 9 \u001b[91m5 \u001b[0m9 \n",
      "0 6 9 0 1 5 9 7 3 4 \n",
      "9 6 6 5 4 0 7 4 0 1 \n",
      "3 1 3 \u001b[91m4 \u001b[0m7 2 7 1 2 1 \n",
      "1 7 4 2 3 5 1 2 4 4 \n",
      "6 3 5 5 6 0 4 1 9 5 \n",
      "7 8 9 \u001b[91m3 \u001b[0m7 4 6 4 3 0 \n",
      "7 0 2 9 1 7 3 2 9 7 \n",
      "7 6 2 7 8 4 7 3 6 1 \n",
      "3 6 \u001b[91m9 \u001b[0m3 1 4 1 7 6 9 \n"
     ]
    },
    {
     "data": {
      "text/plain": [
       "4"
      ]
     },
     "execution_count": 30,
     "metadata": {},
     "output_type": "execute_result"
    }
   ],
   "source": [
    "print_res(model2)"
   ]
  },
  {
   "cell_type": "markdown",
   "metadata": {},
   "source": [
    "The accuracy and the number of mistatakes (5) in the first 100 images is (almost) on par with the baseline model."
   ]
  },
  {
   "cell_type": "markdown",
   "metadata": {},
   "source": [
    "## Adding Parallel CNN Kernels"
   ]
  },
  {
   "cell_type": "markdown",
   "metadata": {},
   "source": [
    "We set `depth=32`, and keep `kernel_width=3x3`, and `pool_stride=2`."
   ]
  },
  {
   "cell_type": "code",
   "execution_count": 31,
   "metadata": {},
   "outputs": [
    {
     "name": "stdout",
     "output_type": "stream",
     "text": [
      "Model: \"sequential_3\"\n",
      "_________________________________________________________________\n",
      "Layer (type)                 Output Shape              Param #   \n",
      "=================================================================\n",
      "conv2d_3 (Conv2D)            (None, 26, 26, 32)        320       \n",
      "_________________________________________________________________\n",
      "max_pooling2d_3 (MaxPooling2 (None, 13, 13, 32)        0         \n",
      "_________________________________________________________________\n",
      "flatten_3 (Flatten)          (None, 5408)              0         \n",
      "_________________________________________________________________\n",
      "dense_3 (Dense)              (None, 10)                54090     \n",
      "=================================================================\n",
      "Total params: 54,410\n",
      "Trainable params: 54,410\n",
      "Non-trainable params: 0\n",
      "_________________________________________________________________\n"
     ]
    }
   ],
   "source": [
    "model3 = make_model(32,3,2)\n",
    "model3.summary()"
   ]
  },
  {
   "cell_type": "markdown",
   "metadata": {},
   "source": [
    "There are 32 kernels has each with 3 × 3 weights and one bias, i.e., `Param = 320` for the CNN layer. As no padding is applied, the CNN layer’s output shape is the same for the x and y dimensions , but it add depth: `(26, 26, 32)`. The output of the pooling layers is one quater (half in x and y dimension) of the CNN output, but it keeps the depth.\n",
    "\n",
    "We train the first CNN model."
   ]
  },
  {
   "cell_type": "code",
   "execution_count": 32,
   "metadata": {},
   "outputs": [
    {
     "name": "stdout",
     "output_type": "stream",
     "text": [
      "Epoch 1/10\n",
      "469/469 [==============================] - 6s 13ms/step - loss: 0.6451 - accuracy: 0.8257 - val_loss: 0.1396 - val_accuracy: 0.9612\n",
      "Epoch 2/10\n",
      "469/469 [==============================] - 6s 14ms/step - loss: 0.1293 - accuracy: 0.9641 - val_loss: 0.0910 - val_accuracy: 0.9736\n",
      "Epoch 3/10\n",
      "469/469 [==============================] - 6s 14ms/step - loss: 0.0884 - accuracy: 0.9760 - val_loss: 0.0716 - val_accuracy: 0.9780\n",
      "Epoch 4/10\n",
      "469/469 [==============================] - 7s 14ms/step - loss: 0.0687 - accuracy: 0.9807 - val_loss: 0.0640 - val_accuracy: 0.9810\n",
      "Epoch 5/10\n",
      "469/469 [==============================] - 7s 16ms/step - loss: 0.0602 - accuracy: 0.9821 - val_loss: 0.0571 - val_accuracy: 0.9820\n",
      "Epoch 6/10\n",
      "469/469 [==============================] - 7s 16ms/step - loss: 0.0530 - accuracy: 0.9851 - val_loss: 0.0572 - val_accuracy: 0.9819\n",
      "Epoch 7/10\n",
      "469/469 [==============================] - 8s 17ms/step - loss: 0.0490 - accuracy: 0.9858 - val_loss: 0.0591 - val_accuracy: 0.9794\n",
      "Epoch 8/10\n",
      "469/469 [==============================] - 8s 17ms/step - loss: 0.0431 - accuracy: 0.9876 - val_loss: 0.0595 - val_accuracy: 0.9802\n",
      "Epoch 9/10\n",
      "469/469 [==============================] - 8s 17ms/step - loss: 0.0406 - accuracy: 0.9880 - val_loss: 0.0540 - val_accuracy: 0.9827\n",
      "Epoch 10/10\n",
      "469/469 [==============================] - 8s 17ms/step - loss: 0.0353 - accuracy: 0.9901 - val_loss: 0.0505 - val_accuracy: 0.9838\n"
     ]
    }
   ],
   "source": [
    "model3_history = model3.fit(\n",
    "    x_train,\n",
    "    y_train,\n",
    "    epochs=EPOCHS,\n",
    "    callbacks = [early_stopping],\n",
    "    validation_data=(x_test, y_test),\n",
    "    batch_size=BATCH_SIZE)"
   ]
  },
  {
   "cell_type": "code",
   "execution_count": 33,
   "metadata": {},
   "outputs": [
    {
     "data": {
      "image/png": "[encoded data removed]",
      "text/plain": [
       "<Figure size 720x360 with 2 Axes>"
      ]
     },
     "metadata": {
      "needs_background": "light"
     },
     "output_type": "display_data"
    }
   ],
   "source": [
    "plot_metrics(model3_history)"
   ]
  },
  {
   "cell_type": "code",
   "execution_count": 34,
   "metadata": {},
   "outputs": [
    {
     "name": "stdout",
     "output_type": "stream",
     "text": [
      "Accuracy: 0.984\n"
     ]
    }
   ],
   "source": [
    "loss, acc = model3.evaluate(x_test, y_test, verbose=0)\n",
    "print('Accuracy: %.3f' % acc)"
   ]
  },
  {
   "cell_type": "code",
   "execution_count": 35,
   "metadata": {},
   "outputs": [
    {
     "name": "stdout",
     "output_type": "stream",
     "text": [
      "7 2 1 0 4 1 4 9 6 9 \n",
      "0 6 9 0 1 5 9 7 8 4 \n",
      "9 6 6 5 4 0 7 4 0 1 \n",
      "3 1 3 4 7 2 7 1 2 1 \n",
      "1 7 4 2 3 5 1 2 4 4 \n",
      "6 3 5 5 6 0 4 1 9 5 \n",
      "7 8 9 3 7 4 6 4 3 0 \n",
      "7 0 2 9 1 7 3 2 9 7 \n",
      "7 6 2 7 8 4 7 3 6 1 \n",
      "3 6 4 3 1 4 1 7 6 9 \n",
      "--\n",
      "7 2 1 0 4 1 4 9 \u001b[91m5 \u001b[0m9 \n",
      "0 6 9 0 1 5 9 7 \u001b[91m3 \u001b[0m4 \n",
      "9 6 6 5 4 0 7 4 0 1 \n",
      "3 1 3 4 7 2 7 1 2 1 \n",
      "1 7 4 2 3 5 1 2 4 4 \n",
      "6 3 5 5 6 0 4 1 9 5 \n",
      "7 8 9 3 7 4 6 4 3 0 \n",
      "7 0 2 9 1 7 3 2 9 7 \n",
      "7 6 2 7 8 4 7 3 6 1 \n",
      "3 6 \u001b[91m9 \u001b[0m3 1 4 1 7 6 9 \n"
     ]
    },
    {
     "data": {
      "text/plain": [
       "3"
      ]
     },
     "execution_count": 35,
     "metadata": {},
     "output_type": "execute_result"
    }
   ],
   "source": [
    "print_res(model3)"
   ]
  },
  {
   "cell_type": "markdown",
   "metadata": {},
   "source": [
    "The accuracy goes up and there are only 3 mistatakes in the first 100 images."
   ]
  },
  {
   "cell_type": "markdown",
   "metadata": {},
   "source": [
    "## Adding another dense (hidden) layer"
   ]
  },
  {
   "cell_type": "code",
   "execution_count": 36,
   "metadata": {},
   "outputs": [
    {
     "name": "stdout",
     "output_type": "stream",
     "text": [
      "Model: \"sequential_4\"\n",
      "_________________________________________________________________\n",
      "Layer (type)                 Output Shape              Param #   \n",
      "=================================================================\n",
      "conv2d_4 (Conv2D)            (None, 26, 26, 32)        320       \n",
      "_________________________________________________________________\n",
      "max_pooling2d_4 (MaxPooling2 (None, 13, 13, 32)        0         \n",
      "_________________________________________________________________\n",
      "flatten_4 (Flatten)          (None, 5408)              0         \n",
      "_________________________________________________________________\n",
      "dense_4 (Dense)              (None, 100)               540900    \n",
      "_________________________________________________________________\n",
      "dropout (Dropout)            (None, 100)               0         \n",
      "_________________________________________________________________\n",
      "dense_5 (Dense)              (None, 10)                1010      \n",
      "=================================================================\n",
      "Total params: 542,230\n",
      "Trainable params: 542,230\n",
      "Non-trainable params: 0\n",
      "_________________________________________________________________\n"
     ]
    }
   ],
   "source": [
    "model4 = make_model(32,3,2,True)\n",
    "model4.summary()"
   ]
  },
  {
   "cell_type": "markdown",
   "metadata": {},
   "source": [
    "This lets the number of parameters grow to over half a million!\n",
    "We train this final CNN model."
   ]
  },
  {
   "cell_type": "code",
   "execution_count": 37,
   "metadata": {},
   "outputs": [
    {
     "name": "stdout",
     "output_type": "stream",
     "text": [
      "Epoch 1/10\n",
      "469/469 [==============================] - 11s 22ms/step - loss: 0.6402 - accuracy: 0.8062 - val_loss: 0.0987 - val_accuracy: 0.9699\n",
      "Epoch 2/10\n",
      "469/469 [==============================] - 11s 23ms/step - loss: 0.1550 - accuracy: 0.9555 - val_loss: 0.0624 - val_accuracy: 0.9801\n",
      "Epoch 3/10\n",
      "469/469 [==============================] - 12s 26ms/step - loss: 0.1095 - accuracy: 0.9688 - val_loss: 0.0551 - val_accuracy: 0.9814\n",
      "Epoch 4/10\n",
      "469/469 [==============================] - 12s 25ms/step - loss: 0.0876 - accuracy: 0.9734 - val_loss: 0.0459 - val_accuracy: 0.9839\n",
      "Epoch 5/10\n",
      "469/469 [==============================] - 12s 26ms/step - loss: 0.0715 - accuracy: 0.9793 - val_loss: 0.0465 - val_accuracy: 0.9840\n",
      "Epoch 6/10\n",
      "469/469 [==============================] - 12s 26ms/step - loss: 0.0644 - accuracy: 0.9801 - val_loss: 0.0441 - val_accuracy: 0.9836\n",
      "Epoch 7/10\n",
      "469/469 [==============================] - 13s 27ms/step - loss: 0.0579 - accuracy: 0.9820 - val_loss: 0.0399 - val_accuracy: 0.9862\n",
      "Epoch 8/10\n",
      "469/469 [==============================] - 14s 30ms/step - loss: 0.0542 - accuracy: 0.9835 - val_loss: 0.0372 - val_accuracy: 0.9879\n",
      "Epoch 9/10\n",
      "469/469 [==============================] - 14s 30ms/step - loss: 0.0469 - accuracy: 0.9854 - val_loss: 0.0398 - val_accuracy: 0.9863\n",
      "Epoch 10/10\n",
      "469/469 [==============================] - 14s 30ms/step - loss: 0.0445 - accuracy: 0.9864 - val_loss: 0.0370 - val_accuracy: 0.9871\n"
     ]
    }
   ],
   "source": [
    "model4_history = model4.fit(\n",
    "    x_train,\n",
    "    y_train,\n",
    "    epochs=EPOCHS,\n",
    "    callbacks = [early_stopping],\n",
    "    validation_data=(x_test, y_test),\n",
    "    batch_size=BATCH_SIZE)"
   ]
  },
  {
   "cell_type": "code",
   "execution_count": 38,
   "metadata": {},
   "outputs": [
    {
     "data": {
      "image/png": "[encoded data removed]",
      "text/plain": [
       "<Figure size 720x360 with 2 Axes>"
      ]
     },
     "metadata": {
      "needs_background": "light"
     },
     "output_type": "display_data"
    }
   ],
   "source": [
    "plot_metrics(model4_history)"
   ]
  },
  {
   "cell_type": "code",
   "execution_count": 40,
   "metadata": {},
   "outputs": [
    {
     "name": "stdout",
     "output_type": "stream",
     "text": [
      "Accuracy: 0.987\n"
     ]
    }
   ],
   "source": [
    "loss, acc = model4.evaluate(x_test, y_test, verbose=0)\n",
    "print('Accuracy: %.3f' % acc)"
   ]
  },
  {
   "cell_type": "code",
   "execution_count": 41,
   "metadata": {},
   "outputs": [
    {
     "name": "stdout",
     "output_type": "stream",
     "text": [
      "7 2 1 0 4 1 4 9 5 9 \n",
      "0 6 9 0 1 5 9 7 5 4 \n",
      "9 6 6 5 4 0 7 4 0 1 \n",
      "3 1 3 4 7 2 7 1 2 1 \n",
      "1 7 4 2 3 5 1 2 4 4 \n",
      "6 3 5 5 6 0 4 1 9 5 \n",
      "7 8 9 3 7 4 6 4 3 0 \n",
      "7 0 2 9 1 7 3 2 9 7 \n",
      "7 6 2 7 8 4 7 3 6 1 \n",
      "3 6 4 3 1 4 1 7 6 9 \n",
      "--\n",
      "7 2 1 0 4 1 4 9 5 9 \n",
      "0 6 9 0 1 5 9 7 \u001b[91m3 \u001b[0m4 \n",
      "9 6 6 5 4 0 7 4 0 1 \n",
      "3 1 3 4 7 2 7 1 2 1 \n",
      "1 7 4 2 3 5 1 2 4 4 \n",
      "6 3 5 5 6 0 4 1 9 5 \n",
      "7 8 9 3 7 4 6 4 3 0 \n",
      "7 0 2 9 1 7 3 2 9 7 \n",
      "7 6 2 7 8 4 7 3 6 1 \n",
      "3 6 \u001b[91m9 \u001b[0m3 1 4 1 7 6 9 \n"
     ]
    }
   ],
   "source": [
    " err = print_res(model4)"
   ]
  },
  {
   "cell_type": "markdown",
   "metadata": {
    "variables": {
     "err": "2"
    }
   },
   "source": [
    "The accuracy goes up a bit and there are {{err}} mistatake left in the first 100 images."
   ]
  }
 ],
 "metadata": {
  "kernelspec": {
   "display_name": "Python 3",
   "language": "python",
   "name": "python3"
  },
  "language_info": {
   "codemirror_mode": {
    "name": "ipython",
    "version": 3
   },
   "file_extension": ".py",
   "mimetype": "text/x-python",
   "name": "python",
   "nbconvert_exporter": "python",
   "pygments_lexer": "ipython3",
   "version": "3.7.4"
  }
 },
 "nbformat": 4,
 "nbformat_minor": 2
}
