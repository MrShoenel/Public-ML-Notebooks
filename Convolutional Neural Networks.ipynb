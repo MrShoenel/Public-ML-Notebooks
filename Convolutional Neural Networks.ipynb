{
 "cells": [
  {
   "cell_type": "markdown",
   "metadata": {},
   "source": [
    "# Convolutional Neural Networks for digit image classification"
   ]
  },
  {
   "cell_type": "markdown",
   "metadata": {},
   "source": [
    "The popular [MNIST](https://en.wikipedia.org/wiki/MNIST_database) handwritten digit image classification dataset contains $60'000+10'000$ handwritten digits to be classified as a number between $0$ and $9$.\n",
    "\n",
    "The sequence of (more and more complex) models defined below will eventually arrive at the one suggested in this [tutorial](https://machinelearningmastery.com/tensorflow-tutorial-deep-learning-with-tf-keras/)."
   ]
  },
  {
   "cell_type": "markdown",
   "metadata": {},
   "source": [
    "## Steps"
   ]
  },
  {
   "cell_type": "markdown",
   "metadata": {},
   "source": [
    "1. Loading and plotting the mnist dataset\n",
    "2. Setting the sceene for image classification\n",
    "3. Defining and evaluating the baseline model\n",
    "4. Adding Pooling\n",
    "5. Adding a CNN Kernel\n",
    "6. Adding another dense output layer"
   ]
  },
  {
   "cell_type": "markdown",
   "metadata": {},
   "source": [
    "## Loading and plotting the MNIST dataset"
   ]
  },
  {
   "cell_type": "code",
   "execution_count": 1,
   "metadata": {
    "scrolled": false
   },
   "outputs": [
    {
     "name": "stdout",
     "output_type": "stream",
     "text": [
      "Train: X=(60000, 28, 28), y=(60000,)\n",
      "Test: X=(10000, 28, 28), y=(10000,)\n"
     ]
    },
    {
     "data": {
      "image/png": "[encoded data removed]",
      "text/plain": [
       "<Figure size 432x288 with 25 Axes>"
      ]
     },
     "metadata": {
      "needs_background": "light"
     },
     "output_type": "display_data"
    }
   ],
   "source": [
    "from tensorflow.keras.datasets.mnist import load_data\n",
    "from matplotlib import pyplot\n",
    "# load dataset\n",
    "(x_train, y_train), (x_test, y_test) = load_data()\n",
    "# summarize loaded dataset\n",
    "print('Train: X=%s, y=%s' % (x_train.shape, y_train.shape))\n",
    "print('Test: X=%s, y=%s' % (x_test.shape, y_test.shape))\n",
    "# plot first few images\n",
    "for i in range(25):\n",
    "\t# define subplot\n",
    "\tpyplot.subplot(5, 5, i+1)\n",
    "\t# plot raw pixel data\n",
    "\tpyplot.imshow(x_test[i], cmap=pyplot.get_cmap('gray'))\n",
    "# show the figure\n",
    "pyplot.show()"
   ]
  },
  {
   "cell_type": "markdown",
   "metadata": {},
   "source": [
    "## Setting the sceene for image classification"
   ]
  },
  {
   "cell_type": "markdown",
   "metadata": {},
   "source": [
    "Fix necessary imports."
   ]
  },
  {
   "cell_type": "code",
   "execution_count": 2,
   "metadata": {},
   "outputs": [],
   "source": [
    "from numpy import zeros\n",
    "from numpy import unique\n",
    "from numpy import argmax\n",
    "from tensorflow.keras import Sequential\n",
    "from tensorflow.keras.layers import Dense\n",
    "from tensorflow.keras.layers import Conv2D\n",
    "from tensorflow.keras.layers import MaxPool2D\n",
    "from tensorflow.keras.layers import Flatten\n",
    "from tensorflow.keras.layers import Dropout\n",
    "from tensorflow.keras.utils import plot_model\n",
    "from tensorflow.keras.callbacks import EarlyStopping\n",
    "from tensorflow.keras.metrics import Accuracy"
   ]
  },
  {
   "cell_type": "markdown",
   "metadata": {},
   "source": [
    "Reshape data to have a single b/w channel."
   ]
  },
  {
   "cell_type": "code",
   "execution_count": 3,
   "metadata": {},
   "outputs": [
    {
     "name": "stdout",
     "output_type": "stream",
     "text": [
      "Before: (28, 28)\n",
      "After: (28, 28, 1)\n"
     ]
    }
   ],
   "source": [
    "orig_shape = x_train.shape[1:]\n",
    "x_train = x_train.reshape((x_train.shape[0], x_train.shape[1], x_train.shape[2], 1))\n",
    "x_test = x_test.reshape((x_test.shape[0], x_test.shape[1], x_test.shape[2], 1))\n",
    "in_shape = x_train.shape[1:]\n",
    "print(\"Before: {0}\".format(orig_shape))\n",
    "print(\"After: {0}\".format(in_shape))"
   ]
  },
  {
   "cell_type": "markdown",
   "metadata": {},
   "source": [
    "Determine the number of classes."
   ]
  },
  {
   "cell_type": "code",
   "execution_count": 4,
   "metadata": {
    "scrolled": true
   },
   "outputs": [
    {
     "name": "stdout",
     "output_type": "stream",
     "text": [
      "Classes: 10\n"
     ]
    }
   ],
   "source": [
    "n_classes = len(unique(y_train))\n",
    "print(\"Classes: {0}\".format(n_classes))"
   ]
  },
  {
   "cell_type": "markdown",
   "metadata": {},
   "source": [
    "Normalize pixel values `int[0..255]` $\\rightarrow$ `float32[0..1]`."
   ]
  },
  {
   "cell_type": "code",
   "execution_count": 5,
   "metadata": {},
   "outputs": [],
   "source": [
    "x_train = x_train.astype('float32') / 255.0\n",
    "x_test = x_test.astype('float32') / 255.0"
   ]
  },
  {
   "cell_type": "markdown",
   "metadata": {},
   "source": [
    "Function to define the CNN model architecture and compile it with constant surrogate goal function (loss), evaluation metrics, and optimizer. We will vary `depth`, `kernel_width`, and `pool_stride` of the models."
   ]
  },
  {
   "cell_type": "code",
   "execution_count": 16,
   "metadata": {
    "scrolled": true
   },
   "outputs": [],
   "source": [
    "def make_model(depth, kernel_width, pool_stride):\n",
    "    model = Sequential()\n",
    "    model.add(Conv2D(depth, (kernel_width,kernel_width), activation='relu', input_shape=in_shape))\n",
    "    model.add(MaxPool2D((pool_stride, pool_stride)))\n",
    "    model.add(Flatten())\n",
    "    #model.add(Dense(100, activation='relu'))\n",
    "    #model.add(Dropout(0.5))\n",
    "    model.add(Dense(n_classes, activation='softmax'))\n",
    "    model.compile(optimizer='adam', loss='sparse_categorical_crossentropy', metrics=['accuracy'])\n",
    "    return model"
   ]
  },
  {
   "cell_type": "markdown",
   "metadata": {},
   "source": [
    "Define learning parameters for all models."
   ]
  },
  {
   "cell_type": "code",
   "execution_count": 17,
   "metadata": {},
   "outputs": [],
   "source": [
    "EPOCHS = 10\n",
    "BATCH_SIZE = 128\n",
    "\n",
    "early_stopping = EarlyStopping(\n",
    "    monitor='val_accuracy', \n",
    "    verbose=1,\n",
    "    patience=10,\n",
    "    mode='max',\n",
    "    restore_best_weights=True)"
   ]
  },
  {
   "cell_type": "markdown",
   "metadata": {},
   "source": [
    "Function to show the history of training."
   ]
  },
  {
   "cell_type": "code",
   "execution_count": 36,
   "metadata": {},
   "outputs": [],
   "source": [
    "def plot_metrics(history):\n",
    "    colors = pyplot.rcParams['axes.prop_cycle'].by_key()['color']\n",
    "    metrics =  ['loss', 'accuracy']\n",
    "    pyplot.figure(figsize=(10,5))\n",
    "    for n, metric in enumerate(metrics):\n",
    "        name = metric.replace(\"_\",\" \").capitalize()\n",
    "        pyplot.subplot(1,2,n+1)\n",
    "        pyplot.plot(history.epoch, history.history[metric], color=colors[0], label='Train')\n",
    "        pyplot.plot(history.epoch, history.history['val_'+ metric],\n",
    "             color=colors[0], linestyle=\"--\", label='Val')\n",
    "        pyplot.xlabel('Epoch')\n",
    "        pyplot.ylabel(name)\n",
    "        if metric == 'loss':\n",
    "            pyplot.ylim([0, pyplot.ylim()[1] +0.1])\n",
    "        else:\n",
    "            pyplot.ylim([-0.1,1.1])\n",
    "        pyplot.legend()"
   ]
  },
  {
   "cell_type": "markdown",
   "metadata": {},
   "source": [
    "## Baseline"
   ]
  },
  {
   "cell_type": "markdown",
   "metadata": {},
   "source": [
    "We set `depth=1`, `kernel_width=1x1`, and `pool_stride=1x1`, i.e., no effective CNN."
   ]
  },
  {
   "cell_type": "code",
   "execution_count": 19,
   "metadata": {
    "scrolled": true
   },
   "outputs": [
    {
     "name": "stdout",
     "output_type": "stream",
     "text": [
      "Model: \"sequential_1\"\n",
      "_________________________________________________________________\n",
      "Layer (type)                 Output Shape              Param #   \n",
      "=================================================================\n",
      "conv2d_1 (Conv2D)            (None, 28, 28, 1)         2         \n",
      "_________________________________________________________________\n",
      "max_pooling2d_1 (MaxPooling2 (None, 28, 28, 1)         0         \n",
      "_________________________________________________________________\n",
      "flatten_1 (Flatten)          (None, 784)               0         \n",
      "_________________________________________________________________\n",
      "dense_2 (Dense)              (None, 10)                7850      \n",
      "=================================================================\n",
      "Total params: 7,852\n",
      "Trainable params: 7,852\n",
      "Non-trainable params: 0\n",
      "_________________________________________________________________\n"
     ]
    }
   ],
   "source": [
    "baseline = make_model(1,1,1)\n",
    "baseline.summary()"
   ]
  },
  {
   "cell_type": "markdown",
   "metadata": {},
   "source": [
    "Note that the kernel has one weight and one bias, i.e., `Param = 2` for the CNN layer. The output of the CNN and the pooling layers are equal to their inputs."
   ]
  },
  {
   "cell_type": "markdown",
   "metadata": {},
   "source": [
    "We train the baseline model."
   ]
  },
  {
   "cell_type": "code",
   "execution_count": 20,
   "metadata": {},
   "outputs": [
    {
     "name": "stdout",
     "output_type": "stream",
     "text": [
      "Train on 60000 samples, validate on 10000 samples\n",
      "Epoch 1/10\n",
      "60000/60000 [==============================] - 3s 55us/sample - loss: 0.6123 - accuracy: 0.8408 - val_loss: 0.3377 - val_accuracy: 0.9065\n",
      "Epoch 2/10\n",
      "60000/60000 [==============================] - 3s 51us/sample - loss: 0.3231 - accuracy: 0.9099 - val_loss: 0.2931 - val_accuracy: 0.9160\n",
      "Epoch 3/10\n",
      "60000/60000 [==============================] - 3s 50us/sample - loss: 0.2939 - accuracy: 0.9164 - val_loss: 0.2773 - val_accuracy: 0.9195\n",
      "Epoch 4/10\n",
      "60000/60000 [==============================] - 3s 50us/sample - loss: 0.2796 - accuracy: 0.9212 - val_loss: 0.2733 - val_accuracy: 0.9212\n",
      "Epoch 5/10\n",
      "60000/60000 [==============================] - 3s 58us/sample - loss: 0.2716 - accuracy: 0.9233 - val_loss: 0.2737 - val_accuracy: 0.9242\n",
      "Epoch 6/10\n",
      "60000/60000 [==============================] - 3s 54us/sample - loss: 0.2663 - accuracy: 0.9261 - val_loss: 0.2665 - val_accuracy: 0.9238\n",
      "Epoch 7/10\n",
      "60000/60000 [==============================] - 3s 53us/sample - loss: 0.2625 - accuracy: 0.9272 - val_loss: 0.2652 - val_accuracy: 0.9238\n",
      "Epoch 8/10\n",
      "60000/60000 [==============================] - 3s 54us/sample - loss: 0.2596 - accuracy: 0.9276 - val_loss: 0.2701 - val_accuracy: 0.9240\n",
      "Epoch 9/10\n",
      "60000/60000 [==============================] - 3s 55us/sample - loss: 0.2568 - accuracy: 0.9285 - val_loss: 0.2668 - val_accuracy: 0.9240\n",
      "Epoch 10/10\n",
      "60000/60000 [==============================] - 3s 53us/sample - loss: 0.2550 - accuracy: 0.9301 - val_loss: 0.2667 - val_accuracy: 0.9259\n"
     ]
    }
   ],
   "source": [
    "baseline_history = baseline.fit(\n",
    "    x_train, \n",
    "    y_train, \n",
    "    epochs=EPOCHS,\n",
    "    callbacks = [early_stopping],\n",
    "    validation_data=(x_test, y_test),    \n",
    "    batch_size=BATCH_SIZE)"
   ]
  },
  {
   "cell_type": "markdown",
   "metadata": {},
   "source": [
    "... and show the history of training."
   ]
  },
  {
   "cell_type": "code",
   "execution_count": 21,
   "metadata": {
    "scrolled": true
   },
   "outputs": [
    {
     "data": {
      "image/png": "[encoded data removed]",
      "text/plain": [
       "<Figure size 720x360 with 2 Axes>"
      ]
     },
     "metadata": {
      "needs_background": "light"
     },
     "output_type": "display_data"
    }
   ],
   "source": [
    "plot_metrics(baseline_history) "
   ]
  },
  {
   "cell_type": "markdown",
   "metadata": {},
   "source": [
    "We evaluate the trained model."
   ]
  },
  {
   "cell_type": "code",
   "execution_count": 22,
   "metadata": {},
   "outputs": [
    {
     "name": "stdout",
     "output_type": "stream",
     "text": [
      "Accuracy: 0.926\n"
     ]
    }
   ],
   "source": [
    "loss, acc = baseline.evaluate(x_test, y_test, verbose=0)\n",
    "print('Accuracy: %.3f' % acc)"
   ]
  },
  {
   "cell_type": "markdown",
   "metadata": {},
   "source": [
    "Use the model to  make a prediction."
   ]
  },
  {
   "cell_type": "code",
   "execution_count": 26,
   "metadata": {},
   "outputs": [],
   "source": [
    "def print_res(model):\n",
    "    i_range = 10\n",
    "    ys = zeros(i_range * i_range)\n",
    "    class bcolors:\n",
    "        FAIL = '\\033[91m'\n",
    "        ENDC = '\\033[0m'\n",
    "    for i in range(10):\n",
    "        for j in range(i_range):\n",
    "            idx = i*i_range+j;\n",
    "            image = x_test[idx]\n",
    "            yhat = model.predict([[image]])\n",
    "            ys[idx] = argmax(yhat)\n",
    "            print('%d ' % ys[idx], end = '')\n",
    "        print()\n",
    "    print(\"--\")\n",
    "    for i in range(i_range):\n",
    "        for j in range(i_range):\n",
    "            idx = i*i_range+j;\n",
    "            y = y_test[idx]\n",
    "            if y==ys[idx]:\n",
    "                print('%d ' % y, end = '')\n",
    "            else:\n",
    "                print(f\"{bcolors.FAIL}%d {bcolors.ENDC}\" % y, end = '')            \n",
    "        print()"
   ]
  },
  {
   "cell_type": "code",
   "execution_count": 27,
   "metadata": {
    "scrolled": true
   },
   "outputs": [
    {
     "name": "stdout",
     "output_type": "stream",
     "text": [
      "7 2 1 0 4 1 4 9 6 9 \n",
      "0 6 9 0 1 5 9 7 3 4 \n",
      "9 6 6 5 4 0 7 4 0 1 \n",
      "3 1 3 6 7 2 7 1 2 1 \n",
      "1 7 4 2 3 5 1 2 4 4 \n",
      "6 3 5 5 6 0 4 1 9 5 \n",
      "7 8 9 2 7 4 2 4 3 0 \n",
      "7 0 2 9 1 7 3 2 9 7 \n",
      "7 6 2 7 8 4 7 3 6 1 \n",
      "3 6 9 3 1 4 1 7 6 9 \n",
      "--\n",
      "7 2 1 0 4 1 4 9 \u001b[91m5 \u001b[0m9 \n",
      "0 6 9 0 1 5 9 7 3 4 \n",
      "9 6 6 5 4 0 7 4 0 1 \n",
      "3 1 3 \u001b[91m4 \u001b[0m7 2 7 1 2 1 \n",
      "1 7 4 2 3 5 1 2 4 4 \n",
      "6 3 5 5 6 0 4 1 9 5 \n",
      "7 8 9 \u001b[91m3 \u001b[0m7 4 \u001b[91m6 \u001b[0m4 3 0 \n",
      "7 0 2 9 1 7 3 2 9 7 \n",
      "7 6 2 7 8 4 7 3 6 1 \n",
      "3 6 9 3 1 4 1 7 6 9 \n"
     ]
    }
   ],
   "source": [
    "print_res(baseline)"
   ]
  },
  {
   "cell_type": "markdown",
   "metadata": {},
   "source": [
    "There are 4% mistatakes in the first 100 images. The classic dense layer does quite good already."
   ]
  },
  {
   "cell_type": "markdown",
   "metadata": {},
   "source": [
    "## Adding Pooling"
   ]
  },
  {
   "cell_type": "markdown",
   "metadata": {},
   "source": [
    "We set `depth=1`, `kernel_width=1x1`, and `pool_stride=2x2`, i.e., no effective CNN and we even squeeze the image size."
   ]
  },
  {
   "cell_type": "code",
   "execution_count": 38,
   "metadata": {
    "scrolled": true
   },
   "outputs": [
    {
     "name": "stdout",
     "output_type": "stream",
     "text": [
      "Model: \"sequential_4\"\n",
      "_________________________________________________________________\n",
      "Layer (type)                 Output Shape              Param #   \n",
      "=================================================================\n",
      "conv2d_4 (Conv2D)            (None, 28, 28, 1)         2         \n",
      "_________________________________________________________________\n",
      "max_pooling2d_4 (MaxPooling2 (None, 14, 14, 1)         0         \n",
      "_________________________________________________________________\n",
      "flatten_4 (Flatten)          (None, 196)               0         \n",
      "_________________________________________________________________\n",
      "dense_5 (Dense)              (None, 10)                1970      \n",
      "=================================================================\n",
      "Total params: 1,972\n",
      "Trainable params: 1,972\n",
      "Non-trainable params: 0\n",
      "_________________________________________________________________\n"
     ]
    }
   ],
   "source": [
    "model1 = make_model(1,1,2)\n",
    "model1.summary()"
   ]
  },
  {
   "cell_type": "markdown",
   "metadata": {},
   "source": [
    "The kernel has still one weight and one bias, i.e., `Param = 2` for the CNN layer. The output of the pooling layers is one quater (half in each dimension) of the CNN in- and output."
   ]
  },
  {
   "cell_type": "markdown",
   "metadata": {},
   "source": [
    "We train the first CNN model."
   ]
  },
  {
   "cell_type": "code",
   "execution_count": 39,
   "metadata": {},
   "outputs": [
    {
     "name": "stdout",
     "output_type": "stream",
     "text": [
      "Train on 60000 samples, validate on 10000 samples\n",
      "Epoch 1/10\n",
      "60000/60000 [==============================] - 2s 42us/sample - loss: 0.9284 - accuracy: 0.7628 - val_loss: 0.4702 - val_accuracy: 0.8794\n",
      "Epoch 2/10\n",
      "60000/60000 [==============================] - 2s 38us/sample - loss: 0.4176 - accuracy: 0.8837 - val_loss: 0.3562 - val_accuracy: 0.8993\n",
      "Epoch 3/10\n",
      "60000/60000 [==============================] - 2s 37us/sample - loss: 0.3539 - accuracy: 0.8961 - val_loss: 0.3246 - val_accuracy: 0.9060\n",
      "Epoch 4/10\n",
      "60000/60000 [==============================] - 2s 38us/sample - loss: 0.3292 - accuracy: 0.9018 - val_loss: 0.3071 - val_accuracy: 0.9105\n",
      "Epoch 5/10\n",
      "60000/60000 [==============================] - 2s 37us/sample - loss: 0.3155 - accuracy: 0.9065 - val_loss: 0.2993 - val_accuracy: 0.9126\n",
      "Epoch 6/10\n",
      "60000/60000 [==============================] - 2s 38us/sample - loss: 0.3068 - accuracy: 0.9093 - val_loss: 0.2967 - val_accuracy: 0.9147\n",
      "Epoch 7/10\n",
      "60000/60000 [==============================] - 2s 37us/sample - loss: 0.3012 - accuracy: 0.9103 - val_loss: 0.2908 - val_accuracy: 0.9160\n",
      "Epoch 8/10\n",
      "60000/60000 [==============================] - 2s 37us/sample - loss: 0.2969 - accuracy: 0.9119 - val_loss: 0.2878 - val_accuracy: 0.9163\n",
      "Epoch 9/10\n",
      "60000/60000 [==============================] - 3s 43us/sample - loss: 0.2937 - accuracy: 0.9126 - val_loss: 0.2864 - val_accuracy: 0.9161\n",
      "Epoch 10/10\n",
      "60000/60000 [==============================] - 2s 39us/sample - loss: 0.2912 - accuracy: 0.9141 - val_loss: 0.2819 - val_accuracy: 0.9165\n"
     ]
    }
   ],
   "source": [
    "model1_history = model1.fit(\n",
    "    x_train, \n",
    "    y_train, \n",
    "    epochs=EPOCHS,\n",
    "    callbacks = [early_stopping],\n",
    "    validation_data=(x_test, y_test),    \n",
    "    batch_size=BATCH_SIZE)"
   ]
  },
  {
   "cell_type": "markdown",
   "metadata": {},
   "source": [
    "... and show the history of training."
   ]
  },
  {
   "cell_type": "code",
   "execution_count": 40,
   "metadata": {
    "scrolled": true
   },
   "outputs": [
    {
     "data": {
      "image/png": "[encoded data removed]",
      "text/plain": [
       "<Figure size 720x360 with 2 Axes>"
      ]
     },
     "metadata": {
      "needs_background": "light"
     },
     "output_type": "display_data"
    }
   ],
   "source": [
    "plot_metrics(model1_history) "
   ]
  },
  {
   "cell_type": "markdown",
   "metadata": {},
   "source": [
    "We evaluate the trained model."
   ]
  },
  {
   "cell_type": "code",
   "execution_count": 44,
   "metadata": {},
   "outputs": [
    {
     "name": "stdout",
     "output_type": "stream",
     "text": [
      "Accuracy: 0.916\n"
     ]
    }
   ],
   "source": [
    "loss, acc = model1.evaluate(x_test, y_test, verbose=0)\n",
    "print('Accuracy: %.3f' % acc)"
   ]
  },
  {
   "cell_type": "markdown",
   "metadata": {},
   "source": [
    "Use the model to  make a prediction."
   ]
  },
  {
   "cell_type": "code",
   "execution_count": 45,
   "metadata": {},
   "outputs": [
    {
     "name": "stdout",
     "output_type": "stream",
     "text": [
      "7 2 1 0 4 1 4 9 6 9 \n",
      "0 6 9 0 1 5 9 7 3 4 \n",
      "9 6 6 5 4 0 7 4 0 1 \n",
      "3 1 3 5 7 2 7 1 2 1 \n",
      "1 7 4 2 3 5 1 2 4 4 \n",
      "6 3 5 5 6 0 4 1 9 5 \n",
      "7 8 4 2 7 4 7 4 3 0 \n",
      "7 0 2 7 1 7 3 7 9 7 \n",
      "7 6 2 7 8 4 7 3 6 1 \n",
      "3 6 9 3 1 4 1 7 6 9 \n",
      "--\n",
      "7 2 1 0 4 1 4 9 \u001b[91m5 \u001b[0m9 \n",
      "0 6 9 0 1 5 9 7 3 4 \n",
      "9 6 6 5 4 0 7 4 0 1 \n",
      "3 1 3 \u001b[91m4 \u001b[0m7 2 7 1 2 1 \n",
      "1 7 4 2 3 5 1 2 4 4 \n",
      "6 3 5 5 6 0 4 1 9 5 \n",
      "7 8 \u001b[91m9 \u001b[0m\u001b[91m3 \u001b[0m7 4 \u001b[91m6 \u001b[0m4 3 0 \n",
      "7 0 2 \u001b[91m9 \u001b[0m1 7 3 \u001b[91m2 \u001b[0m9 7 \n",
      "7 6 2 7 8 4 7 3 6 1 \n",
      "3 6 9 3 1 4 1 7 6 9 \n"
     ]
    }
   ],
   "source": [
    "print_res(model1)"
   ]
  },
  {
   "cell_type": "markdown",
   "metadata": {},
   "source": [
    "No surprise that the accuracy drops and that there are more mistatakes (7%) in the first 100 images."
   ]
  },
  {
   "cell_type": "markdown",
   "metadata": {},
   "source": [
    "## Adding a CNN Kernel"
   ]
  },
  {
   "cell_type": "markdown",
   "metadata": {},
   "source": [
    "We set `depth=1`, `kernel_width=3x3`, and `pool_stride=2x2`, i.e., one effective CNN layer followed by the pooling layer."
   ]
  },
  {
   "cell_type": "code",
   "execution_count": 47,
   "metadata": {
    "scrolled": true
   },
   "outputs": [
    {
     "name": "stdout",
     "output_type": "stream",
     "text": [
      "Model: \"sequential_6\"\n",
      "_________________________________________________________________\n",
      "Layer (type)                 Output Shape              Param #   \n",
      "=================================================================\n",
      "conv2d_6 (Conv2D)            (None, 26, 26, 1)         10        \n",
      "_________________________________________________________________\n",
      "max_pooling2d_6 (MaxPooling2 (None, 13, 13, 1)         0         \n",
      "_________________________________________________________________\n",
      "flatten_6 (Flatten)          (None, 169)               0         \n",
      "_________________________________________________________________\n",
      "dense_7 (Dense)              (None, 10)                1700      \n",
      "=================================================================\n",
      "Total params: 1,710\n",
      "Trainable params: 1,710\n",
      "Non-trainable params: 0\n",
      "_________________________________________________________________\n"
     ]
    }
   ],
   "source": [
    "model2 = make_model(1,3,2)\n",
    "model2.summary()"
   ]
  },
  {
   "cell_type": "markdown",
   "metadata": {},
   "source": [
    "The kernel has still $3\\times 3$ weights and one bias, i.e., `Param = 10` for the CNN layer. No padding is applied, so the CNN layer 'eats' one pixel at the corners, i.e., its output shape is `(26, 26, 1)`. The output of the pooling layers is one quater (half in $x$ and $y$ dimension) of the CNN output."
   ]
  },
  {
   "cell_type": "markdown",
   "metadata": {},
   "source": [
    "We train the first real CNN model."
   ]
  },
  {
   "cell_type": "code",
   "execution_count": 48,
   "metadata": {},
   "outputs": [
    {
     "name": "stdout",
     "output_type": "stream",
     "text": [
      "Train on 60000 samples, validate on 10000 samples\n",
      "Epoch 1/10\n",
      "60000/60000 [==============================] - 4s 66us/sample - loss: 0.8227 - accuracy: 0.7572 - val_loss: 0.3814 - val_accuracy: 0.8919\n",
      "Epoch 2/10\n",
      "60000/60000 [==============================] - 4s 59us/sample - loss: 0.3596 - accuracy: 0.8948 - val_loss: 0.3129 - val_accuracy: 0.9104\n",
      "Epoch 3/10\n",
      "60000/60000 [==============================] - 4s 60us/sample - loss: 0.3188 - accuracy: 0.9073 - val_loss: 0.2981 - val_accuracy: 0.9144\n",
      "Epoch 4/10\n",
      "60000/60000 [==============================] - 4s 60us/sample - loss: 0.3041 - accuracy: 0.9105 - val_loss: 0.2856 - val_accuracy: 0.9175\n",
      "Epoch 5/10\n",
      "60000/60000 [==============================] - 4s 64us/sample - loss: 0.2953 - accuracy: 0.9143 - val_loss: 0.2781 - val_accuracy: 0.9203\n",
      "Epoch 6/10\n",
      "60000/60000 [==============================] - 4s 61us/sample - loss: 0.2893 - accuracy: 0.9161 - val_loss: 0.2743 - val_accuracy: 0.9210\n",
      "Epoch 7/10\n",
      "60000/60000 [==============================] - 4s 60us/sample - loss: 0.2862 - accuracy: 0.9163 - val_loss: 0.2753 - val_accuracy: 0.9203\n",
      "Epoch 8/10\n",
      "60000/60000 [==============================] - 4s 60us/sample - loss: 0.2825 - accuracy: 0.9185 - val_loss: 0.2701 - val_accuracy: 0.9220\n",
      "Epoch 9/10\n",
      "60000/60000 [==============================] - 4s 63us/sample - loss: 0.2806 - accuracy: 0.9186 - val_loss: 0.2711 - val_accuracy: 0.9220\n",
      "Epoch 10/10\n",
      "60000/60000 [==============================] - 4s 61us/sample - loss: 0.2781 - accuracy: 0.9193 - val_loss: 0.2691 - val_accuracy: 0.9225\n"
     ]
    }
   ],
   "source": [
    "model2_history = model2.fit(\n",
    "    x_train, \n",
    "    y_train, \n",
    "    epochs=EPOCHS,\n",
    "    callbacks = [early_stopping],\n",
    "    validation_data=(x_test, y_test),    \n",
    "    batch_size=BATCH_SIZE)"
   ]
  },
  {
   "cell_type": "markdown",
   "metadata": {},
   "source": [
    "... and show the history of training."
   ]
  },
  {
   "cell_type": "code",
   "execution_count": 49,
   "metadata": {
    "scrolled": true
   },
   "outputs": [
    {
     "data": {
      "image/png": "[encoded data removed]",
      "text/plain": [
       "<Figure size 720x360 with 2 Axes>"
      ]
     },
     "metadata": {
      "needs_background": "light"
     },
     "output_type": "display_data"
    }
   ],
   "source": [
    "plot_metrics(model2_history) "
   ]
  },
  {
   "cell_type": "markdown",
   "metadata": {},
   "source": [
    "We evaluate the trained model."
   ]
  },
  {
   "cell_type": "code",
   "execution_count": 51,
   "metadata": {},
   "outputs": [
    {
     "name": "stdout",
     "output_type": "stream",
     "text": [
      "Accuracy: 0.923\n"
     ]
    }
   ],
   "source": [
    "loss, acc = model2.evaluate(x_test, y_test, verbose=0)\n",
    "print('Accuracy: %.3f' % acc)"
   ]
  },
  {
   "cell_type": "markdown",
   "metadata": {},
   "source": [
    "Use the model to  make a prediction."
   ]
  },
  {
   "cell_type": "code",
   "execution_count": 52,
   "metadata": {},
   "outputs": [
    {
     "name": "stdout",
     "output_type": "stream",
     "text": [
      "7 2 1 0 4 1 4 9 6 9 \n",
      "0 6 9 0 1 5 9 7 3 4 \n",
      "9 6 6 5 4 0 7 4 0 1 \n",
      "3 1 3 6 7 2 7 1 2 1 \n",
      "1 7 4 2 3 5 1 2 4 4 \n",
      "6 3 5 5 6 0 4 1 9 5 \n",
      "7 8 9 3 7 4 2 4 3 0 \n",
      "7 0 2 9 1 7 3 2 9 7 \n",
      "7 6 2 7 8 4 7 3 6 1 \n",
      "3 6 4 3 1 4 1 7 6 9 \n",
      "--\n",
      "7 2 1 0 4 1 4 9 \u001b[91m5 \u001b[0m9 \n",
      "0 6 9 0 1 5 9 7 3 4 \n",
      "9 6 6 5 4 0 7 4 0 1 \n",
      "3 1 3 \u001b[91m4 \u001b[0m7 2 7 1 2 1 \n",
      "1 7 4 2 3 5 1 2 4 4 \n",
      "6 3 5 5 6 0 4 1 9 5 \n",
      "7 8 9 3 7 4 \u001b[91m6 \u001b[0m4 3 0 \n",
      "7 0 2 9 1 7 3 2 9 7 \n",
      "7 6 2 7 8 4 7 3 6 1 \n",
      "3 6 \u001b[91m9 \u001b[0m3 1 4 1 7 6 9 \n"
     ]
    }
   ],
   "source": [
    "print_res(model2)"
   ]
  },
  {
   "cell_type": "markdown",
   "metadata": {},
   "source": [
    "The accuracy and that the number of mistatakes in the first 100 images is on par with the baseline model."
   ]
  },
  {
   "cell_type": "markdown",
   "metadata": {},
   "source": [
    "## Adding Parallel CNN Kernels"
   ]
  },
  {
   "cell_type": "markdown",
   "metadata": {},
   "source": [
    "We set `depth=32`, and keep `kernel_width=3x3`, and `pool_stride=2x2`."
   ]
  },
  {
   "cell_type": "code",
   "execution_count": 53,
   "metadata": {
    "scrolled": true
   },
   "outputs": [
    {
     "name": "stdout",
     "output_type": "stream",
     "text": [
      "Model: \"sequential_7\"\n",
      "_________________________________________________________________\n",
      "Layer (type)                 Output Shape              Param #   \n",
      "=================================================================\n",
      "conv2d_7 (Conv2D)            (None, 26, 26, 32)        320       \n",
      "_________________________________________________________________\n",
      "max_pooling2d_7 (MaxPooling2 (None, 13, 13, 32)        0         \n",
      "_________________________________________________________________\n",
      "flatten_7 (Flatten)          (None, 5408)              0         \n",
      "_________________________________________________________________\n",
      "dense_8 (Dense)              (None, 10)                54090     \n",
      "=================================================================\n",
      "Total params: 54,410\n",
      "Trainable params: 54,410\n",
      "Non-trainable params: 0\n",
      "_________________________________________________________________\n"
     ]
    }
   ],
   "source": [
    "model3 = make_model(32,3,2)\n",
    "model3.summary()"
   ]
  },
  {
   "cell_type": "markdown",
   "metadata": {},
   "source": [
    "There are $32$ kernels has each with $3 \\times 3$ weights and one bias, i.e., `Param = 32` for the CNN layer. As no padding is applied, the CNN layer's output shape is the same for the $x$ and $y$ dimensions , but it add depth: `(26, 26, 32)`. The output of the pooling layers is one quater (half in $x$ and $y$ dimension) of the CNN output, but it keeps the depth."
   ]
  },
  {
   "cell_type": "markdown",
   "metadata": {},
   "source": [
    "We train the first CNN model."
   ]
  },
  {
   "cell_type": "code",
   "execution_count": 54,
   "metadata": {},
   "outputs": [
    {
     "name": "stdout",
     "output_type": "stream",
     "text": [
      "Train on 60000 samples, validate on 10000 samples\n",
      "Epoch 1/10\n",
      "60000/60000 [==============================] - 7s 115us/sample - loss: 0.3390 - accuracy: 0.9099 - val_loss: 0.1409 - val_accuracy: 0.9617\n",
      "Epoch 2/10\n",
      "60000/60000 [==============================] - 7s 116us/sample - loss: 0.1172 - accuracy: 0.9670 - val_loss: 0.0905 - val_accuracy: 0.9724\n",
      "Epoch 3/10\n",
      "60000/60000 [==============================] - 7s 118us/sample - loss: 0.0825 - accuracy: 0.9769 - val_loss: 0.0733 - val_accuracy: 0.9774\n",
      "Epoch 4/10\n",
      "60000/60000 [==============================] - 8s 125us/sample - loss: 0.0673 - accuracy: 0.9808 - val_loss: 0.0655 - val_accuracy: 0.9785\n",
      "Epoch 5/10\n",
      "60000/60000 [==============================] - 8s 125us/sample - loss: 0.0582 - accuracy: 0.9832 - val_loss: 0.0578 - val_accuracy: 0.9810\n",
      "Epoch 6/10\n",
      "60000/60000 [==============================] - 8s 131us/sample - loss: 0.0515 - accuracy: 0.9850 - val_loss: 0.0569 - val_accuracy: 0.9821\n",
      "Epoch 7/10\n",
      "60000/60000 [==============================] - 8s 132us/sample - loss: 0.0475 - accuracy: 0.9864 - val_loss: 0.0559 - val_accuracy: 0.9817\n",
      "Epoch 8/10\n",
      "60000/60000 [==============================] - 8s 140us/sample - loss: 0.0428 - accuracy: 0.9872 - val_loss: 0.0544 - val_accuracy: 0.9830\n",
      "Epoch 9/10\n",
      "60000/60000 [==============================] - 9s 142us/sample - loss: 0.0393 - accuracy: 0.9882 - val_loss: 0.0587 - val_accuracy: 0.9812\n",
      "Epoch 10/10\n",
      "60000/60000 [==============================] - 8s 139us/sample - loss: 0.0367 - accuracy: 0.9889 - val_loss: 0.0509 - val_accuracy: 0.9841\n"
     ]
    }
   ],
   "source": [
    "model3_history = model3.fit(\n",
    "    x_train, \n",
    "    y_train, \n",
    "    epochs=EPOCHS,\n",
    "    callbacks = [early_stopping],\n",
    "    validation_data=(x_test, y_test),    \n",
    "    batch_size=BATCH_SIZE)"
   ]
  },
  {
   "cell_type": "markdown",
   "metadata": {},
   "source": [
    "... and show the history of training."
   ]
  },
  {
   "cell_type": "code",
   "execution_count": 69,
   "metadata": {
    "scrolled": true
   },
   "outputs": [
    {
     "data": {
      "image/png": "[encoded data removed]",
      "text/plain": [
       "<Figure size 720x360 with 2 Axes>"
      ]
     },
     "metadata": {
      "needs_background": "light"
     },
     "output_type": "display_data"
    }
   ],
   "source": [
    "plot_metrics(model3_history) "
   ]
  },
  {
   "cell_type": "markdown",
   "metadata": {},
   "source": [
    "We evaluate the trained model."
   ]
  },
  {
   "cell_type": "code",
   "execution_count": 57,
   "metadata": {},
   "outputs": [
    {
     "name": "stdout",
     "output_type": "stream",
     "text": [
      "Accuracy: 0.984\n"
     ]
    }
   ],
   "source": [
    "loss, acc = model3.evaluate(x_test, y_test, verbose=0)\n",
    "print('Accuracy: %.3f' % acc)"
   ]
  },
  {
   "cell_type": "markdown",
   "metadata": {},
   "source": [
    "Use the model to  make a prediction."
   ]
  },
  {
   "cell_type": "code",
   "execution_count": 59,
   "metadata": {},
   "outputs": [
    {
     "name": "stdout",
     "output_type": "stream",
     "text": [
      "7 2 1 0 4 1 4 9 5 9 \n",
      "0 6 9 0 1 5 9 7 8 4 \n",
      "9 6 6 5 4 0 7 4 0 1 \n",
      "3 1 3 4 7 2 7 1 2 1 \n",
      "1 7 4 2 3 5 1 2 4 4 \n",
      "6 3 5 5 6 0 4 1 9 5 \n",
      "7 8 9 3 7 4 6 4 3 0 \n",
      "7 0 2 9 1 7 3 2 9 7 \n",
      "7 6 2 7 8 4 7 3 6 1 \n",
      "3 6 4 3 1 4 1 7 6 9 \n",
      "--\n",
      "7 2 1 0 4 1 4 9 5 9 \n",
      "0 6 9 0 1 5 9 7 \u001b[91m3 \u001b[0m4 \n",
      "9 6 6 5 4 0 7 4 0 1 \n",
      "3 1 3 4 7 2 7 1 2 1 \n",
      "1 7 4 2 3 5 1 2 4 4 \n",
      "6 3 5 5 6 0 4 1 9 5 \n",
      "7 8 9 3 7 4 6 4 3 0 \n",
      "7 0 2 9 1 7 3 2 9 7 \n",
      "7 6 2 7 8 4 7 3 6 1 \n",
      "3 6 \u001b[91m9 \u001b[0m3 1 4 1 7 6 9 \n"
     ]
    }
   ],
   "source": [
    "print_res(model3)"
   ]
  },
  {
   "cell_type": "markdown",
   "metadata": {},
   "source": [
    "The accuracy goes up to almost 100% and there are only 2% mistatakes in the first 100 images."
   ]
  },
  {
   "cell_type": "markdown",
   "metadata": {},
   "source": [
    "## Adding another dense output layer"
   ]
  },
  {
   "cell_type": "markdown",
   "metadata": {},
   "source": [
    "We keep `depth=32`, and keep `kernel_width=3x3`, and `pool_stride=2x2` but add another dense layer before the output layer as suggested in this [tutorial](https://machinelearningmastery.com/tensorflow-tutorial-deep-learning-with-tf-keras/)."
   ]
  },
  {
   "cell_type": "code",
   "execution_count": 64,
   "metadata": {
    "scrolled": true
   },
   "outputs": [
    {
     "name": "stdout",
     "output_type": "stream",
     "text": [
      "Model: \"sequential_11\"\n",
      "_________________________________________________________________\n",
      "Layer (type)                 Output Shape              Param #   \n",
      "=================================================================\n",
      "conv2d_11 (Conv2D)           (None, 26, 26, 32)        320       \n",
      "_________________________________________________________________\n",
      "max_pooling2d_11 (MaxPooling (None, 13, 13, 32)        0         \n",
      "_________________________________________________________________\n",
      "flatten_11 (Flatten)         (None, 5408)              0         \n",
      "_________________________________________________________________\n",
      "dense_15 (Dense)             (None, 100)               540900    \n",
      "_________________________________________________________________\n",
      "dropout_4 (Dropout)          (None, 100)               0         \n",
      "_________________________________________________________________\n",
      "dense_16 (Dense)             (None, 10)                1010      \n",
      "=================================================================\n",
      "Total params: 542,230\n",
      "Trainable params: 542,230\n",
      "Non-trainable params: 0\n",
      "_________________________________________________________________\n"
     ]
    }
   ],
   "source": [
    "model4 = Sequential()\n",
    "model4.add(Conv2D(32, (3,3), activation='relu', kernel_initializer='he_uniform', input_shape=in_shape))\n",
    "model4.add(MaxPool2D((2, 2)))\n",
    "model4.add(Flatten())\n",
    "model4.add(Dense(100, activation='relu', kernel_initializer='he_uniform'))\n",
    "model4.add(Dropout(0.5))\n",
    "model4.add(Dense(n_classes, activation='softmax'))\n",
    "\n",
    "model4.compile(optimizer='adam', loss='sparse_categorical_crossentropy', metrics=['accuracy'])\n",
    "\n",
    "model4.summary()"
   ]
  },
  {
   "cell_type": "markdown",
   "metadata": {},
   "source": [
    "This lets the number of parameters grow to over half a million!"
   ]
  },
  {
   "cell_type": "markdown",
   "metadata": {},
   "source": [
    "We train this final CNN model."
   ]
  },
  {
   "cell_type": "code",
   "execution_count": 65,
   "metadata": {},
   "outputs": [
    {
     "name": "stdout",
     "output_type": "stream",
     "text": [
      "Train on 60000 samples, validate on 10000 samples\n",
      "Epoch 1/10\n",
      "60000/60000 [==============================] - 12s 202us/sample - loss: 0.3220 - accuracy: 0.9030 - val_loss: 0.0892 - val_accuracy: 0.9712\n",
      "Epoch 2/10\n",
      "60000/60000 [==============================] - 13s 213us/sample - loss: 0.1323 - accuracy: 0.9606 - val_loss: 0.0588 - val_accuracy: 0.9803\n",
      "Epoch 3/10\n",
      "60000/60000 [==============================] - 13s 224us/sample - loss: 0.0968 - accuracy: 0.9708 - val_loss: 0.0500 - val_accuracy: 0.9829\n",
      "Epoch 4/10\n",
      "60000/60000 [==============================] - 15s 242us/sample - loss: 0.0799 - accuracy: 0.9762 - val_loss: 0.0462 - val_accuracy: 0.9842\n",
      "Epoch 5/10\n",
      "60000/60000 [==============================] - 14s 230us/sample - loss: 0.0686 - accuracy: 0.9793 - val_loss: 0.0446 - val_accuracy: 0.9859\n",
      "Epoch 6/10\n",
      "60000/60000 [==============================] - 14s 228us/sample - loss: 0.0599 - accuracy: 0.9810 - val_loss: 0.0458 - val_accuracy: 0.9854\n",
      "Epoch 7/10\n",
      "60000/60000 [==============================] - 14s 230us/sample - loss: 0.0536 - accuracy: 0.9830 - val_loss: 0.0425 - val_accuracy: 0.9855\n",
      "Epoch 8/10\n",
      "60000/60000 [==============================] - 14s 234us/sample - loss: 0.0488 - accuracy: 0.9845 - val_loss: 0.0399 - val_accuracy: 0.9866\n",
      "Epoch 9/10\n",
      "60000/60000 [==============================] - 14s 241us/sample - loss: 0.0435 - accuracy: 0.9861 - val_loss: 0.0422 - val_accuracy: 0.9868\n",
      "Epoch 10/10\n",
      "60000/60000 [==============================] - 14s 238us/sample - loss: 0.0406 - accuracy: 0.9873 - val_loss: 0.0403 - val_accuracy: 0.9873\n"
     ]
    }
   ],
   "source": [
    "model4_history = model4.fit(\n",
    "    x_train, \n",
    "    y_train, \n",
    "    epochs=EPOCHS,\n",
    "    callbacks = [early_stopping],\n",
    "    validation_data=(x_test, y_test),    \n",
    "    batch_size=BATCH_SIZE)"
   ]
  },
  {
   "cell_type": "markdown",
   "metadata": {},
   "source": [
    "Training time goes up to $12\\ldots 15 \\mathit{s}$ compared to $<10 \\mathit{s}$ per epoch before. \n",
    "\n",
    "Here the history of training."
   ]
  },
  {
   "cell_type": "code",
   "execution_count": 66,
   "metadata": {
    "scrolled": true
   },
   "outputs": [
    {
     "data": {
      "image/png": "[encoded data removed]",
      "text/plain": [
       "<Figure size 720x360 with 2 Axes>"
      ]
     },
     "metadata": {
      "needs_background": "light"
     },
     "output_type": "display_data"
    }
   ],
   "source": [
    "plot_metrics(model4_history) "
   ]
  },
  {
   "cell_type": "markdown",
   "metadata": {},
   "source": [
    "We evaluate the trained model."
   ]
  },
  {
   "cell_type": "code",
   "execution_count": 67,
   "metadata": {},
   "outputs": [
    {
     "name": "stdout",
     "output_type": "stream",
     "text": [
      "Accuracy: 0.987\n"
     ]
    }
   ],
   "source": [
    "loss, acc = model4.evaluate(x_test, y_test, verbose=0)\n",
    "print('Accuracy: %.3f' % acc)"
   ]
  },
  {
   "cell_type": "markdown",
   "metadata": {},
   "source": [
    "Use the model to  make a prediction."
   ]
  },
  {
   "cell_type": "code",
   "execution_count": 68,
   "metadata": {
    "scrolled": true
   },
   "outputs": [
    {
     "name": "stdout",
     "output_type": "stream",
     "text": [
      "7 2 1 0 4 1 4 9 5 9 \n",
      "0 6 9 0 1 5 9 7 5 4 \n",
      "9 6 6 5 4 0 7 4 0 1 \n",
      "3 1 3 4 7 2 7 1 2 1 \n",
      "1 7 4 2 3 5 1 2 4 4 \n",
      "6 3 5 5 6 0 4 1 9 5 \n",
      "7 8 9 3 7 4 6 4 3 0 \n",
      "7 0 2 9 1 7 3 2 9 7 \n",
      "7 6 2 7 8 4 7 3 6 1 \n",
      "3 6 9 3 1 4 1 7 6 9 \n",
      "--\n",
      "7 2 1 0 4 1 4 9 5 9 \n",
      "0 6 9 0 1 5 9 7 \u001b[91m3 \u001b[0m4 \n",
      "9 6 6 5 4 0 7 4 0 1 \n",
      "3 1 3 4 7 2 7 1 2 1 \n",
      "1 7 4 2 3 5 1 2 4 4 \n",
      "6 3 5 5 6 0 4 1 9 5 \n",
      "7 8 9 3 7 4 6 4 3 0 \n",
      "7 0 2 9 1 7 3 2 9 7 \n",
      "7 6 2 7 8 4 7 3 6 1 \n",
      "3 6 9 3 1 4 1 7 6 9 \n"
     ]
    }
   ],
   "source": [
    "print_res(model4)"
   ]
  },
  {
   "cell_type": "markdown",
   "metadata": {},
   "source": [
    "The accuracy goes up a bit and there are only 1% mistatakes left in the first 100 images."
   ]
  }
 ],
 "metadata": {
  "kernelspec": {
   "display_name": "Python 3",
   "language": "python",
   "name": "python3"
  },
  "language_info": {
   "codemirror_mode": {
    "name": "ipython",
    "version": 3
   },
   "file_extension": ".py",
   "mimetype": "text/x-python",
   "name": "python",
   "nbconvert_exporter": "python",
   "pygments_lexer": "ipython3",
   "version": "3.7.4"
  }
 },
 "nbformat": 4,
 "nbformat_minor": 2
}
